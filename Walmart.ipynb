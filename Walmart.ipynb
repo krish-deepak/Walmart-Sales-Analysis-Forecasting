{
  "nbformat": 4,
  "nbformat_minor": 0,
  "metadata": {
    "colab": {
      "provenance": []
    },
    "kernelspec": {
      "name": "python3",
      "display_name": "Python 3"
    },
    "language_info": {
      "name": "python"
    }
  },
  "cells": [
    {
      "cell_type": "code",
      "execution_count": null,
      "metadata": {
        "id": "ZRfs1x15xjrg"
      },
      "outputs": [],
      "source": [
        "import pandas as pd\n",
        "import numpy as np\n",
        "import matplotlib.pyplot as plt\n",
        "import seaborn as sns"
      ]
    },
    {
      "cell_type": "code",
      "source": [],
      "metadata": {
        "id": "VoVB2h0HAfdJ"
      },
      "execution_count": null,
      "outputs": []
    },
    {
      "cell_type": "code",
      "source": [
        "csv_url = 'https://d2beiqkhq929f0.cloudfront.net/public_assets/assets/000/001/293/original/walmart_data.csv?1641285094'"
      ],
      "metadata": {
        "id": "gjqe_90qxpB9"
      },
      "execution_count": null,
      "outputs": []
    },
    {
      "cell_type": "code",
      "source": [
        "df = pd.read_csv(csv_url)"
      ],
      "metadata": {
        "id": "wJihJHEIy-pr"
      },
      "execution_count": null,
      "outputs": []
    },
    {
      "cell_type": "code",
      "source": [
        "Rows,Columns = df.shape\n",
        "print(f'There are {Rows} rows and {Columns} columns')"
      ],
      "metadata": {
        "colab": {
          "base_uri": "https://localhost:8080/"
        },
        "id": "IsJ4NHx60Azv",
        "outputId": "8c0dd904-ba28-4650-b1d2-5c9d9da27cde"
      },
      "execution_count": null,
      "outputs": [
        {
          "output_type": "stream",
          "name": "stdout",
          "text": [
            "There are 550068 rows and 10 columns\n"
          ]
        }
      ]
    },
    {
      "cell_type": "code",
      "source": [
        "df.groupby(['Gender'])['Purchase'].nunique()"
      ],
      "metadata": {
        "colab": {
          "base_uri": "https://localhost:8080/",
          "height": 178
        },
        "id": "HyafWT8v7C9z",
        "outputId": "ef5915a2-968d-4702-cd42-6583e1d7ff54"
      },
      "execution_count": null,
      "outputs": [
        {
          "output_type": "execute_result",
          "data": {
            "text/plain": [
              "Gender\n",
              "F    14704\n",
              "M    17547\n",
              "Name: Purchase, dtype: int64"
            ],
            "text/html": [
              "<div>\n",
              "<style scoped>\n",
              "    .dataframe tbody tr th:only-of-type {\n",
              "        vertical-align: middle;\n",
              "    }\n",
              "\n",
              "    .dataframe tbody tr th {\n",
              "        vertical-align: top;\n",
              "    }\n",
              "\n",
              "    .dataframe thead th {\n",
              "        text-align: right;\n",
              "    }\n",
              "</style>\n",
              "<table border=\"1\" class=\"dataframe\">\n",
              "  <thead>\n",
              "    <tr style=\"text-align: right;\">\n",
              "      <th></th>\n",
              "      <th>Purchase</th>\n",
              "    </tr>\n",
              "    <tr>\n",
              "      <th>Gender</th>\n",
              "      <th></th>\n",
              "    </tr>\n",
              "  </thead>\n",
              "  <tbody>\n",
              "    <tr>\n",
              "      <th>F</th>\n",
              "      <td>14704</td>\n",
              "    </tr>\n",
              "    <tr>\n",
              "      <th>M</th>\n",
              "      <td>17547</td>\n",
              "    </tr>\n",
              "  </tbody>\n",
              "</table>\n",
              "</div><br><label><b>dtype:</b> int64</label>"
            ]
          },
          "metadata": {},
          "execution_count": 5
        }
      ]
    },
    {
      "cell_type": "code",
      "source": [
        "df.describe()"
      ],
      "metadata": {
        "colab": {
          "base_uri": "https://localhost:8080/",
          "height": 300
        },
        "id": "x7gWrJrvzU4l",
        "outputId": "c42f9c5a-fd64-463c-9b56-2dbcd321ddb5"
      },
      "execution_count": null,
      "outputs": [
        {
          "output_type": "execute_result",
          "data": {
            "text/plain": [
              "            User_ID     Occupation  Marital_Status  Product_Category  \\\n",
              "count  5.500680e+05  550068.000000   550068.000000     550068.000000   \n",
              "mean   1.003029e+06       8.076707        0.409653          5.404270   \n",
              "std    1.727592e+03       6.522660        0.491770          3.936211   \n",
              "min    1.000001e+06       0.000000        0.000000          1.000000   \n",
              "25%    1.001516e+06       2.000000        0.000000          1.000000   \n",
              "50%    1.003077e+06       7.000000        0.000000          5.000000   \n",
              "75%    1.004478e+06      14.000000        1.000000          8.000000   \n",
              "max    1.006040e+06      20.000000        1.000000         20.000000   \n",
              "\n",
              "            Purchase  \n",
              "count  550068.000000  \n",
              "mean     9263.968713  \n",
              "std      5023.065394  \n",
              "min        12.000000  \n",
              "25%      5823.000000  \n",
              "50%      8047.000000  \n",
              "75%     12054.000000  \n",
              "max     23961.000000  "
            ],
            "text/html": [
              "\n",
              "  <div id=\"df-1036b5da-c076-481a-9bc1-4a02b21416bb\" class=\"colab-df-container\">\n",
              "    <div>\n",
              "<style scoped>\n",
              "    .dataframe tbody tr th:only-of-type {\n",
              "        vertical-align: middle;\n",
              "    }\n",
              "\n",
              "    .dataframe tbody tr th {\n",
              "        vertical-align: top;\n",
              "    }\n",
              "\n",
              "    .dataframe thead th {\n",
              "        text-align: right;\n",
              "    }\n",
              "</style>\n",
              "<table border=\"1\" class=\"dataframe\">\n",
              "  <thead>\n",
              "    <tr style=\"text-align: right;\">\n",
              "      <th></th>\n",
              "      <th>User_ID</th>\n",
              "      <th>Occupation</th>\n",
              "      <th>Marital_Status</th>\n",
              "      <th>Product_Category</th>\n",
              "      <th>Purchase</th>\n",
              "    </tr>\n",
              "  </thead>\n",
              "  <tbody>\n",
              "    <tr>\n",
              "      <th>count</th>\n",
              "      <td>5.500680e+05</td>\n",
              "      <td>550068.000000</td>\n",
              "      <td>550068.000000</td>\n",
              "      <td>550068.000000</td>\n",
              "      <td>550068.000000</td>\n",
              "    </tr>\n",
              "    <tr>\n",
              "      <th>mean</th>\n",
              "      <td>1.003029e+06</td>\n",
              "      <td>8.076707</td>\n",
              "      <td>0.409653</td>\n",
              "      <td>5.404270</td>\n",
              "      <td>9263.968713</td>\n",
              "    </tr>\n",
              "    <tr>\n",
              "      <th>std</th>\n",
              "      <td>1.727592e+03</td>\n",
              "      <td>6.522660</td>\n",
              "      <td>0.491770</td>\n",
              "      <td>3.936211</td>\n",
              "      <td>5023.065394</td>\n",
              "    </tr>\n",
              "    <tr>\n",
              "      <th>min</th>\n",
              "      <td>1.000001e+06</td>\n",
              "      <td>0.000000</td>\n",
              "      <td>0.000000</td>\n",
              "      <td>1.000000</td>\n",
              "      <td>12.000000</td>\n",
              "    </tr>\n",
              "    <tr>\n",
              "      <th>25%</th>\n",
              "      <td>1.001516e+06</td>\n",
              "      <td>2.000000</td>\n",
              "      <td>0.000000</td>\n",
              "      <td>1.000000</td>\n",
              "      <td>5823.000000</td>\n",
              "    </tr>\n",
              "    <tr>\n",
              "      <th>50%</th>\n",
              "      <td>1.003077e+06</td>\n",
              "      <td>7.000000</td>\n",
              "      <td>0.000000</td>\n",
              "      <td>5.000000</td>\n",
              "      <td>8047.000000</td>\n",
              "    </tr>\n",
              "    <tr>\n",
              "      <th>75%</th>\n",
              "      <td>1.004478e+06</td>\n",
              "      <td>14.000000</td>\n",
              "      <td>1.000000</td>\n",
              "      <td>8.000000</td>\n",
              "      <td>12054.000000</td>\n",
              "    </tr>\n",
              "    <tr>\n",
              "      <th>max</th>\n",
              "      <td>1.006040e+06</td>\n",
              "      <td>20.000000</td>\n",
              "      <td>1.000000</td>\n",
              "      <td>20.000000</td>\n",
              "      <td>23961.000000</td>\n",
              "    </tr>\n",
              "  </tbody>\n",
              "</table>\n",
              "</div>\n",
              "    <div class=\"colab-df-buttons\">\n",
              "\n",
              "  <div class=\"colab-df-container\">\n",
              "    <button class=\"colab-df-convert\" onclick=\"convertToInteractive('df-1036b5da-c076-481a-9bc1-4a02b21416bb')\"\n",
              "            title=\"Convert this dataframe to an interactive table.\"\n",
              "            style=\"display:none;\">\n",
              "\n",
              "  <svg xmlns=\"http://www.w3.org/2000/svg\" height=\"24px\" viewBox=\"0 -960 960 960\">\n",
              "    <path d=\"M120-120v-720h720v720H120Zm60-500h600v-160H180v160Zm220 220h160v-160H400v160Zm0 220h160v-160H400v160ZM180-400h160v-160H180v160Zm440 0h160v-160H620v160ZM180-180h160v-160H180v160Zm440 0h160v-160H620v160Z\"/>\n",
              "  </svg>\n",
              "    </button>\n",
              "\n",
              "  <style>\n",
              "    .colab-df-container {\n",
              "      display:flex;\n",
              "      gap: 12px;\n",
              "    }\n",
              "\n",
              "    .colab-df-convert {\n",
              "      background-color: #E8F0FE;\n",
              "      border: none;\n",
              "      border-radius: 50%;\n",
              "      cursor: pointer;\n",
              "      display: none;\n",
              "      fill: #1967D2;\n",
              "      height: 32px;\n",
              "      padding: 0 0 0 0;\n",
              "      width: 32px;\n",
              "    }\n",
              "\n",
              "    .colab-df-convert:hover {\n",
              "      background-color: #E2EBFA;\n",
              "      box-shadow: 0px 1px 2px rgba(60, 64, 67, 0.3), 0px 1px 3px 1px rgba(60, 64, 67, 0.15);\n",
              "      fill: #174EA6;\n",
              "    }\n",
              "\n",
              "    .colab-df-buttons div {\n",
              "      margin-bottom: 4px;\n",
              "    }\n",
              "\n",
              "    [theme=dark] .colab-df-convert {\n",
              "      background-color: #3B4455;\n",
              "      fill: #D2E3FC;\n",
              "    }\n",
              "\n",
              "    [theme=dark] .colab-df-convert:hover {\n",
              "      background-color: #434B5C;\n",
              "      box-shadow: 0px 1px 3px 1px rgba(0, 0, 0, 0.15);\n",
              "      filter: drop-shadow(0px 1px 2px rgba(0, 0, 0, 0.3));\n",
              "      fill: #FFFFFF;\n",
              "    }\n",
              "  </style>\n",
              "\n",
              "    <script>\n",
              "      const buttonEl =\n",
              "        document.querySelector('#df-1036b5da-c076-481a-9bc1-4a02b21416bb button.colab-df-convert');\n",
              "      buttonEl.style.display =\n",
              "        google.colab.kernel.accessAllowed ? 'block' : 'none';\n",
              "\n",
              "      async function convertToInteractive(key) {\n",
              "        const element = document.querySelector('#df-1036b5da-c076-481a-9bc1-4a02b21416bb');\n",
              "        const dataTable =\n",
              "          await google.colab.kernel.invokeFunction('convertToInteractive',\n",
              "                                                    [key], {});\n",
              "        if (!dataTable) return;\n",
              "\n",
              "        const docLinkHtml = 'Like what you see? Visit the ' +\n",
              "          '<a target=\"_blank\" href=https://colab.research.google.com/notebooks/data_table.ipynb>data table notebook</a>'\n",
              "          + ' to learn more about interactive tables.';\n",
              "        element.innerHTML = '';\n",
              "        dataTable['output_type'] = 'display_data';\n",
              "        await google.colab.output.renderOutput(dataTable, element);\n",
              "        const docLink = document.createElement('div');\n",
              "        docLink.innerHTML = docLinkHtml;\n",
              "        element.appendChild(docLink);\n",
              "      }\n",
              "    </script>\n",
              "  </div>\n",
              "\n",
              "\n",
              "<div id=\"df-783cf242-29f3-45a8-bb6e-46e2b2efcf63\">\n",
              "  <button class=\"colab-df-quickchart\" onclick=\"quickchart('df-783cf242-29f3-45a8-bb6e-46e2b2efcf63')\"\n",
              "            title=\"Suggest charts\"\n",
              "            style=\"display:none;\">\n",
              "\n",
              "<svg xmlns=\"http://www.w3.org/2000/svg\" height=\"24px\"viewBox=\"0 0 24 24\"\n",
              "     width=\"24px\">\n",
              "    <g>\n",
              "        <path d=\"M19 3H5c-1.1 0-2 .9-2 2v14c0 1.1.9 2 2 2h14c1.1 0 2-.9 2-2V5c0-1.1-.9-2-2-2zM9 17H7v-7h2v7zm4 0h-2V7h2v10zm4 0h-2v-4h2v4z\"/>\n",
              "    </g>\n",
              "</svg>\n",
              "  </button>\n",
              "\n",
              "<style>\n",
              "  .colab-df-quickchart {\n",
              "      --bg-color: #E8F0FE;\n",
              "      --fill-color: #1967D2;\n",
              "      --hover-bg-color: #E2EBFA;\n",
              "      --hover-fill-color: #174EA6;\n",
              "      --disabled-fill-color: #AAA;\n",
              "      --disabled-bg-color: #DDD;\n",
              "  }\n",
              "\n",
              "  [theme=dark] .colab-df-quickchart {\n",
              "      --bg-color: #3B4455;\n",
              "      --fill-color: #D2E3FC;\n",
              "      --hover-bg-color: #434B5C;\n",
              "      --hover-fill-color: #FFFFFF;\n",
              "      --disabled-bg-color: #3B4455;\n",
              "      --disabled-fill-color: #666;\n",
              "  }\n",
              "\n",
              "  .colab-df-quickchart {\n",
              "    background-color: var(--bg-color);\n",
              "    border: none;\n",
              "    border-radius: 50%;\n",
              "    cursor: pointer;\n",
              "    display: none;\n",
              "    fill: var(--fill-color);\n",
              "    height: 32px;\n",
              "    padding: 0;\n",
              "    width: 32px;\n",
              "  }\n",
              "\n",
              "  .colab-df-quickchart:hover {\n",
              "    background-color: var(--hover-bg-color);\n",
              "    box-shadow: 0 1px 2px rgba(60, 64, 67, 0.3), 0 1px 3px 1px rgba(60, 64, 67, 0.15);\n",
              "    fill: var(--button-hover-fill-color);\n",
              "  }\n",
              "\n",
              "  .colab-df-quickchart-complete:disabled,\n",
              "  .colab-df-quickchart-complete:disabled:hover {\n",
              "    background-color: var(--disabled-bg-color);\n",
              "    fill: var(--disabled-fill-color);\n",
              "    box-shadow: none;\n",
              "  }\n",
              "\n",
              "  .colab-df-spinner {\n",
              "    border: 2px solid var(--fill-color);\n",
              "    border-color: transparent;\n",
              "    border-bottom-color: var(--fill-color);\n",
              "    animation:\n",
              "      spin 1s steps(1) infinite;\n",
              "  }\n",
              "\n",
              "  @keyframes spin {\n",
              "    0% {\n",
              "      border-color: transparent;\n",
              "      border-bottom-color: var(--fill-color);\n",
              "      border-left-color: var(--fill-color);\n",
              "    }\n",
              "    20% {\n",
              "      border-color: transparent;\n",
              "      border-left-color: var(--fill-color);\n",
              "      border-top-color: var(--fill-color);\n",
              "    }\n",
              "    30% {\n",
              "      border-color: transparent;\n",
              "      border-left-color: var(--fill-color);\n",
              "      border-top-color: var(--fill-color);\n",
              "      border-right-color: var(--fill-color);\n",
              "    }\n",
              "    40% {\n",
              "      border-color: transparent;\n",
              "      border-right-color: var(--fill-color);\n",
              "      border-top-color: var(--fill-color);\n",
              "    }\n",
              "    60% {\n",
              "      border-color: transparent;\n",
              "      border-right-color: var(--fill-color);\n",
              "    }\n",
              "    80% {\n",
              "      border-color: transparent;\n",
              "      border-right-color: var(--fill-color);\n",
              "      border-bottom-color: var(--fill-color);\n",
              "    }\n",
              "    90% {\n",
              "      border-color: transparent;\n",
              "      border-bottom-color: var(--fill-color);\n",
              "    }\n",
              "  }\n",
              "</style>\n",
              "\n",
              "  <script>\n",
              "    async function quickchart(key) {\n",
              "      const quickchartButtonEl =\n",
              "        document.querySelector('#' + key + ' button');\n",
              "      quickchartButtonEl.disabled = true;  // To prevent multiple clicks.\n",
              "      quickchartButtonEl.classList.add('colab-df-spinner');\n",
              "      try {\n",
              "        const charts = await google.colab.kernel.invokeFunction(\n",
              "            'suggestCharts', [key], {});\n",
              "      } catch (error) {\n",
              "        console.error('Error during call to suggestCharts:', error);\n",
              "      }\n",
              "      quickchartButtonEl.classList.remove('colab-df-spinner');\n",
              "      quickchartButtonEl.classList.add('colab-df-quickchart-complete');\n",
              "    }\n",
              "    (() => {\n",
              "      let quickchartButtonEl =\n",
              "        document.querySelector('#df-783cf242-29f3-45a8-bb6e-46e2b2efcf63 button');\n",
              "      quickchartButtonEl.style.display =\n",
              "        google.colab.kernel.accessAllowed ? 'block' : 'none';\n",
              "    })();\n",
              "  </script>\n",
              "</div>\n",
              "\n",
              "    </div>\n",
              "  </div>\n"
            ],
            "application/vnd.google.colaboratory.intrinsic+json": {
              "type": "dataframe",
              "summary": "{\n  \"name\": \"df\",\n  \"rows\": 8,\n  \"fields\": [\n    {\n      \"column\": \"User_ID\",\n      \"properties\": {\n        \"dtype\": \"number\",\n        \"std\": 367117.89753373514,\n        \"min\": 1727.5915855306216,\n        \"max\": 1006040.0,\n        \"num_unique_values\": 8,\n        \"samples\": [\n          1003028.8424013031,\n          1003077.0,\n          550068.0\n        ],\n        \"semantic_type\": \"\",\n        \"description\": \"\"\n      }\n    },\n    {\n      \"column\": \"Occupation\",\n      \"properties\": {\n        \"dtype\": \"number\",\n        \"std\": 194475.49735336297,\n        \"min\": 0.0,\n        \"max\": 550068.0,\n        \"num_unique_values\": 8,\n        \"samples\": [\n          8.076706879876669,\n          7.0,\n          550068.0\n        ],\n        \"semantic_type\": \"\",\n        \"description\": \"\"\n      }\n    },\n    {\n      \"column\": \"Marital_Status\",\n      \"properties\": {\n        \"dtype\": \"number\",\n        \"std\": 194478.25991330712,\n        \"min\": 0.0,\n        \"max\": 550068.0,\n        \"num_unique_values\": 5,\n        \"samples\": [\n          0.40965298835780306,\n          1.0,\n          0.4917701263166973\n        ],\n        \"semantic_type\": \"\",\n        \"description\": \"\"\n      }\n    },\n    {\n      \"column\": \"Product_Category\",\n      \"properties\": {\n        \"dtype\": \"number\",\n        \"std\": 194476.16701795225,\n        \"min\": 1.0,\n        \"max\": 550068.0,\n        \"num_unique_values\": 7,\n        \"samples\": [\n          550068.0,\n          5.404270017525106,\n          8.0\n        ],\n        \"semantic_type\": \"\",\n        \"description\": \"\"\n      }\n    },\n    {\n      \"column\": \"Purchase\",\n      \"properties\": {\n        \"dtype\": \"number\",\n        \"std\": 191363.80903912007,\n        \"min\": 12.0,\n        \"max\": 550068.0,\n        \"num_unique_values\": 8,\n        \"samples\": [\n          9263.968712959126,\n          8047.0,\n          550068.0\n        ],\n        \"semantic_type\": \"\",\n        \"description\": \"\"\n      }\n    }\n  ]\n}"
            }
          },
          "metadata": {},
          "execution_count": 8
        }
      ]
    },
    {
      "cell_type": "code",
      "source": [
        "df.info()"
      ],
      "metadata": {
        "colab": {
          "base_uri": "https://localhost:8080/"
        },
        "id": "68Bk6VzJzuqS",
        "outputId": "e2789e06-e521-43f2-9f33-792232f4e8bf"
      },
      "execution_count": null,
      "outputs": [
        {
          "output_type": "stream",
          "name": "stdout",
          "text": [
            "<class 'pandas.core.frame.DataFrame'>\n",
            "RangeIndex: 550068 entries, 0 to 550067\n",
            "Data columns (total 10 columns):\n",
            " #   Column                      Non-Null Count   Dtype \n",
            "---  ------                      --------------   ----- \n",
            " 0   User_ID                     550068 non-null  int64 \n",
            " 1   Product_ID                  550068 non-null  object\n",
            " 2   Gender                      550068 non-null  object\n",
            " 3   Age                         550068 non-null  object\n",
            " 4   Occupation                  550068 non-null  int64 \n",
            " 5   City_Category               550068 non-null  object\n",
            " 6   Stay_In_Current_City_Years  550068 non-null  object\n",
            " 7   Marital_Status              550068 non-null  int64 \n",
            " 8   Product_Category            550068 non-null  int64 \n",
            " 9   Purchase                    550068 non-null  int64 \n",
            "dtypes: int64(5), object(5)\n",
            "memory usage: 42.0+ MB\n"
          ]
        }
      ]
    },
    {
      "cell_type": "code",
      "source": [
        "df.isnull().sum()"
      ],
      "metadata": {
        "colab": {
          "base_uri": "https://localhost:8080/",
          "height": 397
        },
        "id": "n_oquUGazxkD",
        "outputId": "97568fca-5d93-481b-f61e-57a190a34d84"
      },
      "execution_count": null,
      "outputs": [
        {
          "output_type": "execute_result",
          "data": {
            "text/plain": [
              "User_ID                       0\n",
              "Product_ID                    0\n",
              "Gender                        0\n",
              "Age                           0\n",
              "Occupation                    0\n",
              "City_Category                 0\n",
              "Stay_In_Current_City_Years    0\n",
              "Marital_Status                0\n",
              "Product_Category              0\n",
              "Purchase                      0\n",
              "dtype: int64"
            ],
            "text/html": [
              "<div>\n",
              "<style scoped>\n",
              "    .dataframe tbody tr th:only-of-type {\n",
              "        vertical-align: middle;\n",
              "    }\n",
              "\n",
              "    .dataframe tbody tr th {\n",
              "        vertical-align: top;\n",
              "    }\n",
              "\n",
              "    .dataframe thead th {\n",
              "        text-align: right;\n",
              "    }\n",
              "</style>\n",
              "<table border=\"1\" class=\"dataframe\">\n",
              "  <thead>\n",
              "    <tr style=\"text-align: right;\">\n",
              "      <th></th>\n",
              "      <th>0</th>\n",
              "    </tr>\n",
              "  </thead>\n",
              "  <tbody>\n",
              "    <tr>\n",
              "      <th>User_ID</th>\n",
              "      <td>0</td>\n",
              "    </tr>\n",
              "    <tr>\n",
              "      <th>Product_ID</th>\n",
              "      <td>0</td>\n",
              "    </tr>\n",
              "    <tr>\n",
              "      <th>Gender</th>\n",
              "      <td>0</td>\n",
              "    </tr>\n",
              "    <tr>\n",
              "      <th>Age</th>\n",
              "      <td>0</td>\n",
              "    </tr>\n",
              "    <tr>\n",
              "      <th>Occupation</th>\n",
              "      <td>0</td>\n",
              "    </tr>\n",
              "    <tr>\n",
              "      <th>City_Category</th>\n",
              "      <td>0</td>\n",
              "    </tr>\n",
              "    <tr>\n",
              "      <th>Stay_In_Current_City_Years</th>\n",
              "      <td>0</td>\n",
              "    </tr>\n",
              "    <tr>\n",
              "      <th>Marital_Status</th>\n",
              "      <td>0</td>\n",
              "    </tr>\n",
              "    <tr>\n",
              "      <th>Product_Category</th>\n",
              "      <td>0</td>\n",
              "    </tr>\n",
              "    <tr>\n",
              "      <th>Purchase</th>\n",
              "      <td>0</td>\n",
              "    </tr>\n",
              "  </tbody>\n",
              "</table>\n",
              "</div><br><label><b>dtype:</b> int64</label>"
            ]
          },
          "metadata": {},
          "execution_count": 14
        }
      ]
    },
    {
      "cell_type": "code",
      "source": [
        "df.tail(5)"
      ],
      "metadata": {
        "colab": {
          "base_uri": "https://localhost:8080/",
          "height": 206
        },
        "id": "Ty2mc_nh1WSL",
        "outputId": "c93a5829-51ec-44c0-b74a-5964a353f32b"
      },
      "execution_count": null,
      "outputs": [
        {
          "output_type": "execute_result",
          "data": {
            "text/plain": [
              "        User_ID Product_ID Gender    Age  Occupation City_Category  \\\n",
              "550063  1006033  P00372445      M  51-55          13             B   \n",
              "550064  1006035  P00375436      F  26-35           1             C   \n",
              "550065  1006036  P00375436      F  26-35          15             B   \n",
              "550066  1006038  P00375436      F    55+           1             C   \n",
              "550067  1006039  P00371644      F  46-50           0             B   \n",
              "\n",
              "       Stay_In_Current_City_Years  Marital_Status  Product_Category  Purchase  \n",
              "550063                          1               1                20       368  \n",
              "550064                          3               0                20       371  \n",
              "550065                         4+               1                20       137  \n",
              "550066                          2               0                20       365  \n",
              "550067                         4+               1                20       490  "
            ],
            "text/html": [
              "\n",
              "  <div id=\"df-b0864d5a-eb2c-469b-8d22-596b66f332b5\" class=\"colab-df-container\">\n",
              "    <div>\n",
              "<style scoped>\n",
              "    .dataframe tbody tr th:only-of-type {\n",
              "        vertical-align: middle;\n",
              "    }\n",
              "\n",
              "    .dataframe tbody tr th {\n",
              "        vertical-align: top;\n",
              "    }\n",
              "\n",
              "    .dataframe thead th {\n",
              "        text-align: right;\n",
              "    }\n",
              "</style>\n",
              "<table border=\"1\" class=\"dataframe\">\n",
              "  <thead>\n",
              "    <tr style=\"text-align: right;\">\n",
              "      <th></th>\n",
              "      <th>User_ID</th>\n",
              "      <th>Product_ID</th>\n",
              "      <th>Gender</th>\n",
              "      <th>Age</th>\n",
              "      <th>Occupation</th>\n",
              "      <th>City_Category</th>\n",
              "      <th>Stay_In_Current_City_Years</th>\n",
              "      <th>Marital_Status</th>\n",
              "      <th>Product_Category</th>\n",
              "      <th>Purchase</th>\n",
              "    </tr>\n",
              "  </thead>\n",
              "  <tbody>\n",
              "    <tr>\n",
              "      <th>550063</th>\n",
              "      <td>1006033</td>\n",
              "      <td>P00372445</td>\n",
              "      <td>M</td>\n",
              "      <td>51-55</td>\n",
              "      <td>13</td>\n",
              "      <td>B</td>\n",
              "      <td>1</td>\n",
              "      <td>1</td>\n",
              "      <td>20</td>\n",
              "      <td>368</td>\n",
              "    </tr>\n",
              "    <tr>\n",
              "      <th>550064</th>\n",
              "      <td>1006035</td>\n",
              "      <td>P00375436</td>\n",
              "      <td>F</td>\n",
              "      <td>26-35</td>\n",
              "      <td>1</td>\n",
              "      <td>C</td>\n",
              "      <td>3</td>\n",
              "      <td>0</td>\n",
              "      <td>20</td>\n",
              "      <td>371</td>\n",
              "    </tr>\n",
              "    <tr>\n",
              "      <th>550065</th>\n",
              "      <td>1006036</td>\n",
              "      <td>P00375436</td>\n",
              "      <td>F</td>\n",
              "      <td>26-35</td>\n",
              "      <td>15</td>\n",
              "      <td>B</td>\n",
              "      <td>4+</td>\n",
              "      <td>1</td>\n",
              "      <td>20</td>\n",
              "      <td>137</td>\n",
              "    </tr>\n",
              "    <tr>\n",
              "      <th>550066</th>\n",
              "      <td>1006038</td>\n",
              "      <td>P00375436</td>\n",
              "      <td>F</td>\n",
              "      <td>55+</td>\n",
              "      <td>1</td>\n",
              "      <td>C</td>\n",
              "      <td>2</td>\n",
              "      <td>0</td>\n",
              "      <td>20</td>\n",
              "      <td>365</td>\n",
              "    </tr>\n",
              "    <tr>\n",
              "      <th>550067</th>\n",
              "      <td>1006039</td>\n",
              "      <td>P00371644</td>\n",
              "      <td>F</td>\n",
              "      <td>46-50</td>\n",
              "      <td>0</td>\n",
              "      <td>B</td>\n",
              "      <td>4+</td>\n",
              "      <td>1</td>\n",
              "      <td>20</td>\n",
              "      <td>490</td>\n",
              "    </tr>\n",
              "  </tbody>\n",
              "</table>\n",
              "</div>\n",
              "    <div class=\"colab-df-buttons\">\n",
              "\n",
              "  <div class=\"colab-df-container\">\n",
              "    <button class=\"colab-df-convert\" onclick=\"convertToInteractive('df-b0864d5a-eb2c-469b-8d22-596b66f332b5')\"\n",
              "            title=\"Convert this dataframe to an interactive table.\"\n",
              "            style=\"display:none;\">\n",
              "\n",
              "  <svg xmlns=\"http://www.w3.org/2000/svg\" height=\"24px\" viewBox=\"0 -960 960 960\">\n",
              "    <path d=\"M120-120v-720h720v720H120Zm60-500h600v-160H180v160Zm220 220h160v-160H400v160Zm0 220h160v-160H400v160ZM180-400h160v-160H180v160Zm440 0h160v-160H620v160ZM180-180h160v-160H180v160Zm440 0h160v-160H620v160Z\"/>\n",
              "  </svg>\n",
              "    </button>\n",
              "\n",
              "  <style>\n",
              "    .colab-df-container {\n",
              "      display:flex;\n",
              "      gap: 12px;\n",
              "    }\n",
              "\n",
              "    .colab-df-convert {\n",
              "      background-color: #E8F0FE;\n",
              "      border: none;\n",
              "      border-radius: 50%;\n",
              "      cursor: pointer;\n",
              "      display: none;\n",
              "      fill: #1967D2;\n",
              "      height: 32px;\n",
              "      padding: 0 0 0 0;\n",
              "      width: 32px;\n",
              "    }\n",
              "\n",
              "    .colab-df-convert:hover {\n",
              "      background-color: #E2EBFA;\n",
              "      box-shadow: 0px 1px 2px rgba(60, 64, 67, 0.3), 0px 1px 3px 1px rgba(60, 64, 67, 0.15);\n",
              "      fill: #174EA6;\n",
              "    }\n",
              "\n",
              "    .colab-df-buttons div {\n",
              "      margin-bottom: 4px;\n",
              "    }\n",
              "\n",
              "    [theme=dark] .colab-df-convert {\n",
              "      background-color: #3B4455;\n",
              "      fill: #D2E3FC;\n",
              "    }\n",
              "\n",
              "    [theme=dark] .colab-df-convert:hover {\n",
              "      background-color: #434B5C;\n",
              "      box-shadow: 0px 1px 3px 1px rgba(0, 0, 0, 0.15);\n",
              "      filter: drop-shadow(0px 1px 2px rgba(0, 0, 0, 0.3));\n",
              "      fill: #FFFFFF;\n",
              "    }\n",
              "  </style>\n",
              "\n",
              "    <script>\n",
              "      const buttonEl =\n",
              "        document.querySelector('#df-b0864d5a-eb2c-469b-8d22-596b66f332b5 button.colab-df-convert');\n",
              "      buttonEl.style.display =\n",
              "        google.colab.kernel.accessAllowed ? 'block' : 'none';\n",
              "\n",
              "      async function convertToInteractive(key) {\n",
              "        const element = document.querySelector('#df-b0864d5a-eb2c-469b-8d22-596b66f332b5');\n",
              "        const dataTable =\n",
              "          await google.colab.kernel.invokeFunction('convertToInteractive',\n",
              "                                                    [key], {});\n",
              "        if (!dataTable) return;\n",
              "\n",
              "        const docLinkHtml = 'Like what you see? Visit the ' +\n",
              "          '<a target=\"_blank\" href=https://colab.research.google.com/notebooks/data_table.ipynb>data table notebook</a>'\n",
              "          + ' to learn more about interactive tables.';\n",
              "        element.innerHTML = '';\n",
              "        dataTable['output_type'] = 'display_data';\n",
              "        await google.colab.output.renderOutput(dataTable, element);\n",
              "        const docLink = document.createElement('div');\n",
              "        docLink.innerHTML = docLinkHtml;\n",
              "        element.appendChild(docLink);\n",
              "      }\n",
              "    </script>\n",
              "  </div>\n",
              "\n",
              "\n",
              "<div id=\"df-f65ef694-526b-4889-ac02-72976e8297c7\">\n",
              "  <button class=\"colab-df-quickchart\" onclick=\"quickchart('df-f65ef694-526b-4889-ac02-72976e8297c7')\"\n",
              "            title=\"Suggest charts\"\n",
              "            style=\"display:none;\">\n",
              "\n",
              "<svg xmlns=\"http://www.w3.org/2000/svg\" height=\"24px\"viewBox=\"0 0 24 24\"\n",
              "     width=\"24px\">\n",
              "    <g>\n",
              "        <path d=\"M19 3H5c-1.1 0-2 .9-2 2v14c0 1.1.9 2 2 2h14c1.1 0 2-.9 2-2V5c0-1.1-.9-2-2-2zM9 17H7v-7h2v7zm4 0h-2V7h2v10zm4 0h-2v-4h2v4z\"/>\n",
              "    </g>\n",
              "</svg>\n",
              "  </button>\n",
              "\n",
              "<style>\n",
              "  .colab-df-quickchart {\n",
              "      --bg-color: #E8F0FE;\n",
              "      --fill-color: #1967D2;\n",
              "      --hover-bg-color: #E2EBFA;\n",
              "      --hover-fill-color: #174EA6;\n",
              "      --disabled-fill-color: #AAA;\n",
              "      --disabled-bg-color: #DDD;\n",
              "  }\n",
              "\n",
              "  [theme=dark] .colab-df-quickchart {\n",
              "      --bg-color: #3B4455;\n",
              "      --fill-color: #D2E3FC;\n",
              "      --hover-bg-color: #434B5C;\n",
              "      --hover-fill-color: #FFFFFF;\n",
              "      --disabled-bg-color: #3B4455;\n",
              "      --disabled-fill-color: #666;\n",
              "  }\n",
              "\n",
              "  .colab-df-quickchart {\n",
              "    background-color: var(--bg-color);\n",
              "    border: none;\n",
              "    border-radius: 50%;\n",
              "    cursor: pointer;\n",
              "    display: none;\n",
              "    fill: var(--fill-color);\n",
              "    height: 32px;\n",
              "    padding: 0;\n",
              "    width: 32px;\n",
              "  }\n",
              "\n",
              "  .colab-df-quickchart:hover {\n",
              "    background-color: var(--hover-bg-color);\n",
              "    box-shadow: 0 1px 2px rgba(60, 64, 67, 0.3), 0 1px 3px 1px rgba(60, 64, 67, 0.15);\n",
              "    fill: var(--button-hover-fill-color);\n",
              "  }\n",
              "\n",
              "  .colab-df-quickchart-complete:disabled,\n",
              "  .colab-df-quickchart-complete:disabled:hover {\n",
              "    background-color: var(--disabled-bg-color);\n",
              "    fill: var(--disabled-fill-color);\n",
              "    box-shadow: none;\n",
              "  }\n",
              "\n",
              "  .colab-df-spinner {\n",
              "    border: 2px solid var(--fill-color);\n",
              "    border-color: transparent;\n",
              "    border-bottom-color: var(--fill-color);\n",
              "    animation:\n",
              "      spin 1s steps(1) infinite;\n",
              "  }\n",
              "\n",
              "  @keyframes spin {\n",
              "    0% {\n",
              "      border-color: transparent;\n",
              "      border-bottom-color: var(--fill-color);\n",
              "      border-left-color: var(--fill-color);\n",
              "    }\n",
              "    20% {\n",
              "      border-color: transparent;\n",
              "      border-left-color: var(--fill-color);\n",
              "      border-top-color: var(--fill-color);\n",
              "    }\n",
              "    30% {\n",
              "      border-color: transparent;\n",
              "      border-left-color: var(--fill-color);\n",
              "      border-top-color: var(--fill-color);\n",
              "      border-right-color: var(--fill-color);\n",
              "    }\n",
              "    40% {\n",
              "      border-color: transparent;\n",
              "      border-right-color: var(--fill-color);\n",
              "      border-top-color: var(--fill-color);\n",
              "    }\n",
              "    60% {\n",
              "      border-color: transparent;\n",
              "      border-right-color: var(--fill-color);\n",
              "    }\n",
              "    80% {\n",
              "      border-color: transparent;\n",
              "      border-right-color: var(--fill-color);\n",
              "      border-bottom-color: var(--fill-color);\n",
              "    }\n",
              "    90% {\n",
              "      border-color: transparent;\n",
              "      border-bottom-color: var(--fill-color);\n",
              "    }\n",
              "  }\n",
              "</style>\n",
              "\n",
              "  <script>\n",
              "    async function quickchart(key) {\n",
              "      const quickchartButtonEl =\n",
              "        document.querySelector('#' + key + ' button');\n",
              "      quickchartButtonEl.disabled = true;  // To prevent multiple clicks.\n",
              "      quickchartButtonEl.classList.add('colab-df-spinner');\n",
              "      try {\n",
              "        const charts = await google.colab.kernel.invokeFunction(\n",
              "            'suggestCharts', [key], {});\n",
              "      } catch (error) {\n",
              "        console.error('Error during call to suggestCharts:', error);\n",
              "      }\n",
              "      quickchartButtonEl.classList.remove('colab-df-spinner');\n",
              "      quickchartButtonEl.classList.add('colab-df-quickchart-complete');\n",
              "    }\n",
              "    (() => {\n",
              "      let quickchartButtonEl =\n",
              "        document.querySelector('#df-f65ef694-526b-4889-ac02-72976e8297c7 button');\n",
              "      quickchartButtonEl.style.display =\n",
              "        google.colab.kernel.accessAllowed ? 'block' : 'none';\n",
              "    })();\n",
              "  </script>\n",
              "</div>\n",
              "\n",
              "    </div>\n",
              "  </div>\n"
            ],
            "application/vnd.google.colaboratory.intrinsic+json": {
              "type": "dataframe",
              "summary": "{\n  \"name\": \"df\",\n  \"rows\": 5,\n  \"fields\": [\n    {\n      \"column\": \"User_ID\",\n      \"properties\": {\n        \"dtype\": \"number\",\n        \"std\": 2,\n        \"min\": 1006033,\n        \"max\": 1006039,\n        \"num_unique_values\": 5,\n        \"samples\": [\n          1006035,\n          1006039,\n          1006036\n        ],\n        \"semantic_type\": \"\",\n        \"description\": \"\"\n      }\n    },\n    {\n      \"column\": \"Product_ID\",\n      \"properties\": {\n        \"dtype\": \"string\",\n        \"num_unique_values\": 3,\n        \"samples\": [\n          \"P00372445\",\n          \"P00375436\",\n          \"P00371644\"\n        ],\n        \"semantic_type\": \"\",\n        \"description\": \"\"\n      }\n    },\n    {\n      \"column\": \"Gender\",\n      \"properties\": {\n        \"dtype\": \"category\",\n        \"num_unique_values\": 2,\n        \"samples\": [\n          \"F\",\n          \"M\"\n        ],\n        \"semantic_type\": \"\",\n        \"description\": \"\"\n      }\n    },\n    {\n      \"column\": \"Age\",\n      \"properties\": {\n        \"dtype\": \"string\",\n        \"num_unique_values\": 4,\n        \"samples\": [\n          \"26-35\",\n          \"46-50\"\n        ],\n        \"semantic_type\": \"\",\n        \"description\": \"\"\n      }\n    },\n    {\n      \"column\": \"Occupation\",\n      \"properties\": {\n        \"dtype\": \"number\",\n        \"std\": 7,\n        \"min\": 0,\n        \"max\": 15,\n        \"num_unique_values\": 4,\n        \"samples\": [\n          1,\n          0\n        ],\n        \"semantic_type\": \"\",\n        \"description\": \"\"\n      }\n    },\n    {\n      \"column\": \"City_Category\",\n      \"properties\": {\n        \"dtype\": \"category\",\n        \"num_unique_values\": 2,\n        \"samples\": [\n          \"C\",\n          \"B\"\n        ],\n        \"semantic_type\": \"\",\n        \"description\": \"\"\n      }\n    },\n    {\n      \"column\": \"Stay_In_Current_City_Years\",\n      \"properties\": {\n        \"dtype\": \"string\",\n        \"num_unique_values\": 4,\n        \"samples\": [\n          \"3\",\n          \"2\"\n        ],\n        \"semantic_type\": \"\",\n        \"description\": \"\"\n      }\n    },\n    {\n      \"column\": \"Marital_Status\",\n      \"properties\": {\n        \"dtype\": \"number\",\n        \"std\": 0,\n        \"min\": 0,\n        \"max\": 1,\n        \"num_unique_values\": 2,\n        \"samples\": [\n          0,\n          1\n        ],\n        \"semantic_type\": \"\",\n        \"description\": \"\"\n      }\n    },\n    {\n      \"column\": \"Product_Category\",\n      \"properties\": {\n        \"dtype\": \"number\",\n        \"std\": 0,\n        \"min\": 20,\n        \"max\": 20,\n        \"num_unique_values\": 1,\n        \"samples\": [\n          20\n        ],\n        \"semantic_type\": \"\",\n        \"description\": \"\"\n      }\n    },\n    {\n      \"column\": \"Purchase\",\n      \"properties\": {\n        \"dtype\": \"number\",\n        \"std\": 128,\n        \"min\": 137,\n        \"max\": 490,\n        \"num_unique_values\": 5,\n        \"samples\": [\n          371\n        ],\n        \"semantic_type\": \"\",\n        \"description\": \"\"\n      }\n    }\n  ]\n}"
            }
          },
          "metadata": {},
          "execution_count": 18
        }
      ]
    },
    {
      "cell_type": "code",
      "source": [
        "age_counts =df['Age'].value_counts().sort_values(ascending=False)\n",
        "age_counts\n",
        "\n"
      ],
      "metadata": {
        "colab": {
          "base_uri": "https://localhost:8080/",
          "height": 335
        },
        "id": "wcdGcJmB1ilb",
        "outputId": "81921783-588c-4401-f7b9-97ce19a0fcf5"
      },
      "execution_count": null,
      "outputs": [
        {
          "output_type": "execute_result",
          "data": {
            "text/plain": [
              "Age\n",
              "26-35    219587\n",
              "36-45    110013\n",
              "18-25     99660\n",
              "46-50     45701\n",
              "51-55     38501\n",
              "55+       21504\n",
              "0-17      15102\n",
              "Name: count, dtype: int64"
            ],
            "text/html": [
              "<div>\n",
              "<style scoped>\n",
              "    .dataframe tbody tr th:only-of-type {\n",
              "        vertical-align: middle;\n",
              "    }\n",
              "\n",
              "    .dataframe tbody tr th {\n",
              "        vertical-align: top;\n",
              "    }\n",
              "\n",
              "    .dataframe thead th {\n",
              "        text-align: right;\n",
              "    }\n",
              "</style>\n",
              "<table border=\"1\" class=\"dataframe\">\n",
              "  <thead>\n",
              "    <tr style=\"text-align: right;\">\n",
              "      <th></th>\n",
              "      <th>count</th>\n",
              "    </tr>\n",
              "    <tr>\n",
              "      <th>Age</th>\n",
              "      <th></th>\n",
              "    </tr>\n",
              "  </thead>\n",
              "  <tbody>\n",
              "    <tr>\n",
              "      <th>26-35</th>\n",
              "      <td>219587</td>\n",
              "    </tr>\n",
              "    <tr>\n",
              "      <th>36-45</th>\n",
              "      <td>110013</td>\n",
              "    </tr>\n",
              "    <tr>\n",
              "      <th>18-25</th>\n",
              "      <td>99660</td>\n",
              "    </tr>\n",
              "    <tr>\n",
              "      <th>46-50</th>\n",
              "      <td>45701</td>\n",
              "    </tr>\n",
              "    <tr>\n",
              "      <th>51-55</th>\n",
              "      <td>38501</td>\n",
              "    </tr>\n",
              "    <tr>\n",
              "      <th>55+</th>\n",
              "      <td>21504</td>\n",
              "    </tr>\n",
              "    <tr>\n",
              "      <th>0-17</th>\n",
              "      <td>15102</td>\n",
              "    </tr>\n",
              "  </tbody>\n",
              "</table>\n",
              "</div><br><label><b>dtype:</b> int64</label>"
            ]
          },
          "metadata": {},
          "execution_count": 6
        }
      ]
    },
    {
      "cell_type": "code",
      "source": [
        "# Plot the graph\n",
        "plt.figure(figsize=(5, 2))\n",
        "plt.bar(age_counts.index, age_counts.values, color='skyblue')\n",
        "plt.xlabel('Age')\n",
        "plt.ylabel('Count')\n",
        "plt.title('Number of Occurrences by Age')\n",
        "plt.xticks(rotation=45)\n",
        "plt.show()"
      ],
      "metadata": {
        "colab": {
          "base_uri": "https://localhost:8080/",
          "height": 280
        },
        "id": "VDkVIdpH8RU0",
        "outputId": "596a2dcc-30c4-450f-c3a3-9ebda497207c"
      },
      "execution_count": null,
      "outputs": [
        {
          "output_type": "display_data",
          "data": {
            "text/plain": [
              "<Figure size 500x200 with 1 Axes>"
            ],
            "image/png": "[encoded data removed]"
          },
          "metadata": {}
        }
      ]
    },
    {
      "cell_type": "code",
      "source": [
        "# Define bins and labels\n",
        "bins = [0, 4000, 8000, 12000, 16000, 20000, 24000, float('inf')]\n",
        "labels = ['0-4k', '4k-8k', '8k-12k', '12k-16k', '16k-20k', '20k-24k', '24k+']\n",
        "\n",
        "# Create a new category column\n",
        "df['purchase_Category'] = pd.cut(df['Purchase'], bins=bins, labels=labels)\n",
        "\n",
        "print(df['purchase_Category'].head(10))"
      ],
      "metadata": {
        "colab": {
          "base_uri": "https://localhost:8080/"
        },
        "id": "s_iAGTc13VI-",
        "outputId": "50e6afaf-7a0b-40e3-d9b8-5f0b3032531b"
      },
      "execution_count": null,
      "outputs": [
        {
          "output_type": "stream",
          "name": "stdout",
          "text": [
            "0     8k-12k\n",
            "1    12k-16k\n",
            "2       0-4k\n",
            "3       0-4k\n",
            "4      4k-8k\n",
            "5    12k-16k\n",
            "6    16k-20k\n",
            "7    12k-16k\n",
            "8    12k-16k\n",
            "9      4k-8k\n",
            "Name: purchase_Category, dtype: category\n",
            "Categories (7, object): ['0-4k' < '4k-8k' < '8k-12k' < '12k-16k' < '16k-20k' < '20k-24k' < '24k+']\n"
          ]
        }
      ]
    },
    {
      "cell_type": "code",
      "source": [
        "df.head()"
      ],
      "metadata": {
        "colab": {
          "base_uri": "https://localhost:8080/",
          "height": 295
        },
        "id": "jtRPo-l66cJh",
        "outputId": "dee782d0-b478-4ece-a71c-462324532ec7"
      },
      "execution_count": null,
      "outputs": [
        {
          "output_type": "execute_result",
          "data": {
            "text/plain": [
              "   User_ID Product_ID Gender   Age  Occupation City_Category  \\\n",
              "0  1000001  P00069042      F  0-17          10             A   \n",
              "1  1000001  P00248942      F  0-17          10             A   \n",
              "2  1000001  P00087842      F  0-17          10             A   \n",
              "3  1000001  P00085442      F  0-17          10             A   \n",
              "4  1000002  P00285442      M   55+          16             C   \n",
              "\n",
              "  Stay_In_Current_City_Years  Marital_Status  Product_Category  Purchase  \\\n",
              "0                          2               0                 3      8370   \n",
              "1                          2               0                 1     15200   \n",
              "2                          2               0                12      1422   \n",
              "3                          2               0                12      1057   \n",
              "4                         4+               0                 8      7969   \n",
              "\n",
              "  Category purchase_Category  \n",
              "0   8k-12k            8k-12k  \n",
              "1  12k-16k           12k-16k  \n",
              "2     0-4k              0-4k  \n",
              "3     0-4k              0-4k  \n",
              "4    4k-8k             4k-8k  "
            ],
            "text/html": [
              "\n",
              "  <div id=\"df-f380eb53-3352-4277-bafe-bf3e7d0f1e58\" class=\"colab-df-container\">\n",
              "    <div>\n",
              "<style scoped>\n",
              "    .dataframe tbody tr th:only-of-type {\n",
              "        vertical-align: middle;\n",
              "    }\n",
              "\n",
              "    .dataframe tbody tr th {\n",
              "        vertical-align: top;\n",
              "    }\n",
              "\n",
              "    .dataframe thead th {\n",
              "        text-align: right;\n",
              "    }\n",
              "</style>\n",
              "<table border=\"1\" class=\"dataframe\">\n",
              "  <thead>\n",
              "    <tr style=\"text-align: right;\">\n",
              "      <th></th>\n",
              "      <th>User_ID</th>\n",
              "      <th>Product_ID</th>\n",
              "      <th>Gender</th>\n",
              "      <th>Age</th>\n",
              "      <th>Occupation</th>\n",
              "      <th>City_Category</th>\n",
              "      <th>Stay_In_Current_City_Years</th>\n",
              "      <th>Marital_Status</th>\n",
              "      <th>Product_Category</th>\n",
              "      <th>Purchase</th>\n",
              "      <th>Category</th>\n",
              "      <th>purchase_Category</th>\n",
              "    </tr>\n",
              "  </thead>\n",
              "  <tbody>\n",
              "    <tr>\n",
              "      <th>0</th>\n",
              "      <td>1000001</td>\n",
              "      <td>P00069042</td>\n",
              "      <td>F</td>\n",
              "      <td>0-17</td>\n",
              "      <td>10</td>\n",
              "      <td>A</td>\n",
              "      <td>2</td>\n",
              "      <td>0</td>\n",
              "      <td>3</td>\n",
              "      <td>8370</td>\n",
              "      <td>8k-12k</td>\n",
              "      <td>8k-12k</td>\n",
              "    </tr>\n",
              "    <tr>\n",
              "      <th>1</th>\n",
              "      <td>1000001</td>\n",
              "      <td>P00248942</td>\n",
              "      <td>F</td>\n",
              "      <td>0-17</td>\n",
              "      <td>10</td>\n",
              "      <td>A</td>\n",
              "      <td>2</td>\n",
              "      <td>0</td>\n",
              "      <td>1</td>\n",
              "      <td>15200</td>\n",
              "      <td>12k-16k</td>\n",
              "      <td>12k-16k</td>\n",
              "    </tr>\n",
              "    <tr>\n",
              "      <th>2</th>\n",
              "      <td>1000001</td>\n",
              "      <td>P00087842</td>\n",
              "      <td>F</td>\n",
              "      <td>0-17</td>\n",
              "      <td>10</td>\n",
              "      <td>A</td>\n",
              "      <td>2</td>\n",
              "      <td>0</td>\n",
              "      <td>12</td>\n",
              "      <td>1422</td>\n",
              "      <td>0-4k</td>\n",
              "      <td>0-4k</td>\n",
              "    </tr>\n",
              "    <tr>\n",
              "      <th>3</th>\n",
              "      <td>1000001</td>\n",
              "      <td>P00085442</td>\n",
              "      <td>F</td>\n",
              "      <td>0-17</td>\n",
              "      <td>10</td>\n",
              "      <td>A</td>\n",
              "      <td>2</td>\n",
              "      <td>0</td>\n",
              "      <td>12</td>\n",
              "      <td>1057</td>\n",
              "      <td>0-4k</td>\n",
              "      <td>0-4k</td>\n",
              "    </tr>\n",
              "    <tr>\n",
              "      <th>4</th>\n",
              "      <td>1000002</td>\n",
              "      <td>P00285442</td>\n",
              "      <td>M</td>\n",
              "      <td>55+</td>\n",
              "      <td>16</td>\n",
              "      <td>C</td>\n",
              "      <td>4+</td>\n",
              "      <td>0</td>\n",
              "      <td>8</td>\n",
              "      <td>7969</td>\n",
              "      <td>4k-8k</td>\n",
              "      <td>4k-8k</td>\n",
              "    </tr>\n",
              "  </tbody>\n",
              "</table>\n",
              "</div>\n",
              "    <div class=\"colab-df-buttons\">\n",
              "\n",
              "  <div class=\"colab-df-container\">\n",
              "    <button class=\"colab-df-convert\" onclick=\"convertToInteractive('df-f380eb53-3352-4277-bafe-bf3e7d0f1e58')\"\n",
              "            title=\"Convert this dataframe to an interactive table.\"\n",
              "            style=\"display:none;\">\n",
              "\n",
              "  <svg xmlns=\"http://www.w3.org/2000/svg\" height=\"24px\" viewBox=\"0 -960 960 960\">\n",
              "    <path d=\"M120-120v-720h720v720H120Zm60-500h600v-160H180v160Zm220 220h160v-160H400v160Zm0 220h160v-160H400v160ZM180-400h160v-160H180v160Zm440 0h160v-160H620v160ZM180-180h160v-160H180v160Zm440 0h160v-160H620v160Z\"/>\n",
              "  </svg>\n",
              "    </button>\n",
              "\n",
              "  <style>\n",
              "    .colab-df-container {\n",
              "      display:flex;\n",
              "      gap: 12px;\n",
              "    }\n",
              "\n",
              "    .colab-df-convert {\n",
              "      background-color: #E8F0FE;\n",
              "      border: none;\n",
              "      border-radius: 50%;\n",
              "      cursor: pointer;\n",
              "      display: none;\n",
              "      fill: #1967D2;\n",
              "      height: 32px;\n",
              "      padding: 0 0 0 0;\n",
              "      width: 32px;\n",
              "    }\n",
              "\n",
              "    .colab-df-convert:hover {\n",
              "      background-color: #E2EBFA;\n",
              "      box-shadow: 0px 1px 2px rgba(60, 64, 67, 0.3), 0px 1px 3px 1px rgba(60, 64, 67, 0.15);\n",
              "      fill: #174EA6;\n",
              "    }\n",
              "\n",
              "    .colab-df-buttons div {\n",
              "      margin-bottom: 4px;\n",
              "    }\n",
              "\n",
              "    [theme=dark] .colab-df-convert {\n",
              "      background-color: #3B4455;\n",
              "      fill: #D2E3FC;\n",
              "    }\n",
              "\n",
              "    [theme=dark] .colab-df-convert:hover {\n",
              "      background-color: #434B5C;\n",
              "      box-shadow: 0px 1px 3px 1px rgba(0, 0, 0, 0.15);\n",
              "      filter: drop-shadow(0px 1px 2px rgba(0, 0, 0, 0.3));\n",
              "      fill: #FFFFFF;\n",
              "    }\n",
              "  </style>\n",
              "\n",
              "    <script>\n",
              "      const buttonEl =\n",
              "        document.querySelector('#df-f380eb53-3352-4277-bafe-bf3e7d0f1e58 button.colab-df-convert');\n",
              "      buttonEl.style.display =\n",
              "        google.colab.kernel.accessAllowed ? 'block' : 'none';\n",
              "\n",
              "      async function convertToInteractive(key) {\n",
              "        const element = document.querySelector('#df-f380eb53-3352-4277-bafe-bf3e7d0f1e58');\n",
              "        const dataTable =\n",
              "          await google.colab.kernel.invokeFunction('convertToInteractive',\n",
              "                                                    [key], {});\n",
              "        if (!dataTable) return;\n",
              "\n",
              "        const docLinkHtml = 'Like what you see? Visit the ' +\n",
              "          '<a target=\"_blank\" href=https://colab.research.google.com/notebooks/data_table.ipynb>data table notebook</a>'\n",
              "          + ' to learn more about interactive tables.';\n",
              "        element.innerHTML = '';\n",
              "        dataTable['output_type'] = 'display_data';\n",
              "        await google.colab.output.renderOutput(dataTable, element);\n",
              "        const docLink = document.createElement('div');\n",
              "        docLink.innerHTML = docLinkHtml;\n",
              "        element.appendChild(docLink);\n",
              "      }\n",
              "    </script>\n",
              "  </div>\n",
              "\n",
              "\n",
              "<div id=\"df-5b2175a2-acb0-4512-9d41-7d18122698a8\">\n",
              "  <button class=\"colab-df-quickchart\" onclick=\"quickchart('df-5b2175a2-acb0-4512-9d41-7d18122698a8')\"\n",
              "            title=\"Suggest charts\"\n",
              "            style=\"display:none;\">\n",
              "\n",
              "<svg xmlns=\"http://www.w3.org/2000/svg\" height=\"24px\"viewBox=\"0 0 24 24\"\n",
              "     width=\"24px\">\n",
              "    <g>\n",
              "        <path d=\"M19 3H5c-1.1 0-2 .9-2 2v14c0 1.1.9 2 2 2h14c1.1 0 2-.9 2-2V5c0-1.1-.9-2-2-2zM9 17H7v-7h2v7zm4 0h-2V7h2v10zm4 0h-2v-4h2v4z\"/>\n",
              "    </g>\n",
              "</svg>\n",
              "  </button>\n",
              "\n",
              "<style>\n",
              "  .colab-df-quickchart {\n",
              "      --bg-color: #E8F0FE;\n",
              "      --fill-color: #1967D2;\n",
              "      --hover-bg-color: #E2EBFA;\n",
              "      --hover-fill-color: #174EA6;\n",
              "      --disabled-fill-color: #AAA;\n",
              "      --disabled-bg-color: #DDD;\n",
              "  }\n",
              "\n",
              "  [theme=dark] .colab-df-quickchart {\n",
              "      --bg-color: #3B4455;\n",
              "      --fill-color: #D2E3FC;\n",
              "      --hover-bg-color: #434B5C;\n",
              "      --hover-fill-color: #FFFFFF;\n",
              "      --disabled-bg-color: #3B4455;\n",
              "      --disabled-fill-color: #666;\n",
              "  }\n",
              "\n",
              "  .colab-df-quickchart {\n",
              "    background-color: var(--bg-color);\n",
              "    border: none;\n",
              "    border-radius: 50%;\n",
              "    cursor: pointer;\n",
              "    display: none;\n",
              "    fill: var(--fill-color);\n",
              "    height: 32px;\n",
              "    padding: 0;\n",
              "    width: 32px;\n",
              "  }\n",
              "\n",
              "  .colab-df-quickchart:hover {\n",
              "    background-color: var(--hover-bg-color);\n",
              "    box-shadow: 0 1px 2px rgba(60, 64, 67, 0.3), 0 1px 3px 1px rgba(60, 64, 67, 0.15);\n",
              "    fill: var(--button-hover-fill-color);\n",
              "  }\n",
              "\n",
              "  .colab-df-quickchart-complete:disabled,\n",
              "  .colab-df-quickchart-complete:disabled:hover {\n",
              "    background-color: var(--disabled-bg-color);\n",
              "    fill: var(--disabled-fill-color);\n",
              "    box-shadow: none;\n",
              "  }\n",
              "\n",
              "  .colab-df-spinner {\n",
              "    border: 2px solid var(--fill-color);\n",
              "    border-color: transparent;\n",
              "    border-bottom-color: var(--fill-color);\n",
              "    animation:\n",
              "      spin 1s steps(1) infinite;\n",
              "  }\n",
              "\n",
              "  @keyframes spin {\n",
              "    0% {\n",
              "      border-color: transparent;\n",
              "      border-bottom-color: var(--fill-color);\n",
              "      border-left-color: var(--fill-color);\n",
              "    }\n",
              "    20% {\n",
              "      border-color: transparent;\n",
              "      border-left-color: var(--fill-color);\n",
              "      border-top-color: var(--fill-color);\n",
              "    }\n",
              "    30% {\n",
              "      border-color: transparent;\n",
              "      border-left-color: var(--fill-color);\n",
              "      border-top-color: var(--fill-color);\n",
              "      border-right-color: var(--fill-color);\n",
              "    }\n",
              "    40% {\n",
              "      border-color: transparent;\n",
              "      border-right-color: var(--fill-color);\n",
              "      border-top-color: var(--fill-color);\n",
              "    }\n",
              "    60% {\n",
              "      border-color: transparent;\n",
              "      border-right-color: var(--fill-color);\n",
              "    }\n",
              "    80% {\n",
              "      border-color: transparent;\n",
              "      border-right-color: var(--fill-color);\n",
              "      border-bottom-color: var(--fill-color);\n",
              "    }\n",
              "    90% {\n",
              "      border-color: transparent;\n",
              "      border-bottom-color: var(--fill-color);\n",
              "    }\n",
              "  }\n",
              "</style>\n",
              "\n",
              "  <script>\n",
              "    async function quickchart(key) {\n",
              "      const quickchartButtonEl =\n",
              "        document.querySelector('#' + key + ' button');\n",
              "      quickchartButtonEl.disabled = true;  // To prevent multiple clicks.\n",
              "      quickchartButtonEl.classList.add('colab-df-spinner');\n",
              "      try {\n",
              "        const charts = await google.colab.kernel.invokeFunction(\n",
              "            'suggestCharts', [key], {});\n",
              "      } catch (error) {\n",
              "        console.error('Error during call to suggestCharts:', error);\n",
              "      }\n",
              "      quickchartButtonEl.classList.remove('colab-df-spinner');\n",
              "      quickchartButtonEl.classList.add('colab-df-quickchart-complete');\n",
              "    }\n",
              "    (() => {\n",
              "      let quickchartButtonEl =\n",
              "        document.querySelector('#df-5b2175a2-acb0-4512-9d41-7d18122698a8 button');\n",
              "      quickchartButtonEl.style.display =\n",
              "        google.colab.kernel.accessAllowed ? 'block' : 'none';\n",
              "    })();\n",
              "  </script>\n",
              "</div>\n",
              "\n",
              "    </div>\n",
              "  </div>\n"
            ],
            "application/vnd.google.colaboratory.intrinsic+json": {
              "type": "dataframe",
              "variable_name": "df"
            }
          },
          "metadata": {},
          "execution_count": 78
        }
      ]
    },
    {
      "cell_type": "code",
      "source": [
        "purchase_count_cat = df['purchase_Category'].value_counts().sort_values(ascending=False)\n",
        "purchase_count_cat = purchase_count_cat.reset_index()\n",
        "purchase_count_cat.columns = ['purchase_Category', 'No. of Purchases']\n",
        "print(purchase_count_cat)"
      ],
      "metadata": {
        "colab": {
          "base_uri": "https://localhost:8080/"
        },
        "id": "0XXvXv0K3n9a",
        "outputId": "d0b43241-7508-482f-dacc-7324c412df0a"
      },
      "execution_count": null,
      "outputs": [
        {
          "output_type": "stream",
          "name": "stdout",
          "text": [
            "  purchase_Category  No. of Purchases\n",
            "0             4k-8k            194738\n",
            "1            8k-12k            141236\n",
            "2           12k-16k             79251\n",
            "3              0-4k             73555\n",
            "4           16k-20k             48597\n",
            "5           20k-24k             12691\n",
            "6              24k+                 0\n"
          ]
        }
      ]
    },
    {
      "cell_type": "code",
      "source": [
        "# Plot the graph\n",
        "plt.figure(figsize=(5, 3))\n",
        "plt.bar(purchase_count_cat['purchase_Category'], purchase_count_cat['No. of Purchases'], color='magenta')\n",
        "plt.xlabel('purchase_Category')\n",
        "plt.ylabel('No. of Purchases')\n",
        "plt.title('Number of Purchases by Category')\n",
        "plt.xticks(rotation=45)\n",
        "plt.show()"
      ],
      "metadata": {
        "colab": {
          "base_uri": "https://localhost:8080/",
          "height": 369
        },
        "id": "xoW-xfat5wL4",
        "outputId": "9977a627-a1f3-438c-95b2-7652ba6e9855"
      },
      "execution_count": null,
      "outputs": [
        {
          "output_type": "display_data",
          "data": {
            "text/plain": [
              "<Figure size 500x300 with 1 Axes>"
            ],
            "image/png": "[encoded data removed]"
          },
          "metadata": {}
        }
      ]
    },
    {
      "cell_type": "code",
      "source": [
        "plt.figure(figsize=(5, 3))\n",
        "sns.boxplot(data=df['Purchase'])\n",
        "plt.ylabel('Purchase_amount')\n",
        "plt.xlabel('purchase counts')\n",
        "plt.title('Boxplot for Detecting Outliers')\n",
        "plt.show()"
      ],
      "metadata": {
        "colab": {
          "base_uri": "https://localhost:8080/",
          "height": 319
        },
        "id": "iqe1FZHC-1ey",
        "outputId": "ec07a534-a085-45da-ad7f-d7a3e05c9f83"
      },
      "execution_count": null,
      "outputs": [
        {
          "output_type": "display_data",
          "data": {
            "text/plain": [
              "<Figure size 500x300 with 1 Axes>"
            ],
            "image/png": "[encoded data removed]"
          },
          "metadata": {}
        }
      ]
    },
    {
      "cell_type": "code",
      "source": [
        "\n",
        "# Function to calculate outlier range\n",
        "def calculate_outlier_range(column):\n",
        "    Q1 = column.quantile(0.25)\n",
        "    Q3 = column.quantile(0.75)\n",
        "    IQR = Q3 - Q1\n",
        "    lower_bound = Q1 - 1.5 * IQR\n",
        "    upper_bound = Q3 + 1.5 * IQR\n",
        "    return lower_bound, upper_bound\n",
        "\n",
        "\n",
        "purchase_outlier_range = calculate_outlier_range(df['Purchase'])\n",
        "\n",
        "\n",
        "print(f\"Outlier range for Purchase: {purchase_outlier_range}\")"
      ],
      "metadata": {
        "colab": {
          "base_uri": "https://localhost:8080/"
        },
        "id": "FdORtgYr_qHC",
        "outputId": "86e31927-5aad-4976-9135-c43b6debd78f"
      },
      "execution_count": null,
      "outputs": [
        {
          "output_type": "stream",
          "name": "stdout",
          "text": [
            "Outlier range for Purchase: (-3523.5, 21400.5)\n"
          ]
        }
      ]
    },
    {
      "cell_type": "code",
      "source": [
        "\n",
        "count = sum(amount > 21400.5 for amount in df['Purchase'])\n",
        "\n",
        "print(f\"Number of values greater than {21400.5}: {count}\")"
      ],
      "metadata": {
        "colab": {
          "base_uri": "https://localhost:8080/"
        },
        "id": "65o0TLCbCKol",
        "outputId": "e5dea8ff-69a1-4d21-9d62-001175458775"
      },
      "execution_count": null,
      "outputs": [
        {
          "output_type": "stream",
          "name": "stdout",
          "text": [
            "Number of values greater than 21400.5: 2677\n"
          ]
        }
      ]
    },
    {
      "cell_type": "code",
      "source": [
        "unique_values = df.apply(lambda col: sorted(col.unique()))\n",
        "print(unique_values)"
      ],
      "metadata": {
        "colab": {
          "base_uri": "https://localhost:8080/"
        },
        "id": "4K-dupe4CugM",
        "outputId": "e4cb226e-e8a5-40b8-c95d-6c3545cd2f81"
      },
      "execution_count": null,
      "outputs": [
        {
          "output_type": "stream",
          "name": "stdout",
          "text": [
            "User_ID                       [1000001, 1000002, 1000003, 1000004, 1000005, ...\n",
            "Product_ID                    [P00000142, P00000242, P00000342, P00000442, P...\n",
            "Gender                                                                   [F, M]\n",
            "Age                              [0-17, 18-25, 26-35, 36-45, 46-50, 51-55, 55+]\n",
            "Occupation                    [0, 1, 2, 3, 4, 5, 6, 7, 8, 9, 10, 11, 12, 13,...\n",
            "City_Category                                                         [A, B, C]\n",
            "Stay_In_Current_City_Years                                     [0, 1, 2, 3, 4+]\n",
            "Marital_Status                                                           [0, 1]\n",
            "Product_Category              [1, 2, 3, 4, 5, 6, 7, 8, 9, 10, 11, 12, 13, 14...\n",
            "Purchase                      [12, 13, 14, 24, 25, 26, 36, 37, 38, 48, 49, 5...\n",
            "Category                       [0-4k, 12k-16k, 16k-20k, 20k-24k, 4k-8k, 8k-12k]\n",
            "purchase_Category              [0-4k, 12k-16k, 16k-20k, 20k-24k, 4k-8k, 8k-12k]\n",
            "dtype: object\n"
          ]
        }
      ]
    },
    {
      "cell_type": "code",
      "source": [
        "top_10_product_sold = df['Product_ID'].value_counts().head(10)\n",
        "print(top_10_product_sold)"
      ],
      "metadata": {
        "colab": {
          "base_uri": "https://localhost:8080/"
        },
        "id": "_GpFp3PgDpCc",
        "outputId": "bc5d2d18-c711-4c39-e5af-6d317cb3bf35"
      },
      "execution_count": null,
      "outputs": [
        {
          "output_type": "stream",
          "name": "stdout",
          "text": [
            "Product_ID\n",
            "P00265242    1880\n",
            "P00025442    1615\n",
            "P00110742    1612\n",
            "P00112142    1562\n",
            "P00057642    1470\n",
            "P00184942    1440\n",
            "P00046742    1438\n",
            "P00058042    1422\n",
            "P00059442    1406\n",
            "P00145042    1406\n",
            "Name: count, dtype: int64\n"
          ]
        }
      ]
    },
    {
      "cell_type": "code",
      "source": [
        "# Count the occurrences of each gender\n",
        "gender_counts = df['Gender'].value_counts()\n",
        "print(gender_counts)\n",
        "\n",
        "# Plotting the bar graph\n",
        "plt.figure(figsize=(4, 2))\n",
        "gender_counts.plot(kind='pie', color=['blue', 'pink'])\n",
        "plt.xlabel('Gender')\n",
        "plt.ylabel('Count')\n",
        "plt.title('Gender Count')\n",
        "plt.xticks(rotation=0)\n",
        "plt.show()"
      ],
      "metadata": {
        "colab": {
          "base_uri": "https://localhost:8080/",
          "height": 301
        },
        "id": "R3cER5y5EpNH",
        "outputId": "07fc086a-90d0-4bc3-b979-3f3ac66a78ab"
      },
      "execution_count": null,
      "outputs": [
        {
          "output_type": "stream",
          "name": "stdout",
          "text": [
            "Gender\n",
            "M    414259\n",
            "F    135809\n",
            "Name: count, dtype: int64\n"
          ]
        },
        {
          "output_type": "display_data",
          "data": {
            "text/plain": [
              "<Figure size 400x200 with 1 Axes>"
            ],
            "image/png": "[encoded data removed]"
          },
          "metadata": {}
        }
      ]
    },
    {
      "cell_type": "code",
      "source": [
        "\n",
        "marrital_counts = df['Marital_Status'].value_counts()\n",
        "print(marrital_counts)\n",
        "\n",
        "# Plotting the bar graph\n",
        "plt.figure(figsize=(4, 2))\n",
        "marrital_counts.plot(kind='pie', color=['blue', 'pink'])\n",
        "plt.xlabel('Married/unmarried')\n",
        "plt.ylabel('Count')\n",
        "plt.title('0-unmarried , 1-married')\n",
        "plt.xticks(rotation=0)\n",
        "plt.show()"
      ],
      "metadata": {
        "colab": {
          "base_uri": "https://localhost:8080/",
          "height": 301
        },
        "id": "gBxM_DDQHIGV",
        "outputId": "d5ae7b43-0cbe-4310-b03b-ce215c90842a"
      },
      "execution_count": null,
      "outputs": [
        {
          "output_type": "stream",
          "name": "stdout",
          "text": [
            "Marital_Status\n",
            "0    324731\n",
            "1    225337\n",
            "Name: count, dtype: int64\n"
          ]
        },
        {
          "output_type": "display_data",
          "data": {
            "text/plain": [
              "<Figure size 400x200 with 1 Axes>"
            ],
            "image/png": "[encoded data removed]"
          },
          "metadata": {}
        }
      ]
    },
    {
      "cell_type": "code",
      "source": [
        "# Count the occurrences of each gender\n",
        "city_counts = df['City_Category'].value_counts().sort_values()\n",
        "print(city_counts)\n",
        "\n",
        "# Plotting the bar graph\n",
        "plt.figure(figsize=(4, 2))\n",
        "city_counts.plot(kind='bar', color=['orange', 'blue', 'green'])\n",
        "plt.xlabel('city_type')\n",
        "plt.ylabel('Count')\n",
        "plt.title('city Count')\n",
        "plt.xticks(rotation=0)\n",
        "plt.show()"
      ],
      "metadata": {
        "colab": {
          "base_uri": "https://localhost:8080/",
          "height": 343
        },
        "id": "UwIELvE6IFMR",
        "outputId": "99eea9b0-ae6c-4a57-c87f-5aa6e413f47d"
      },
      "execution_count": null,
      "outputs": [
        {
          "output_type": "stream",
          "name": "stdout",
          "text": [
            "City_Category\n",
            "A    147720\n",
            "C    171175\n",
            "B    231173\n",
            "Name: count, dtype: int64\n"
          ]
        },
        {
          "output_type": "display_data",
          "data": {
            "text/plain": [
              "<Figure size 400x200 with 1 Axes>"
            ],
            "image/png": "[encoded data removed]"
          },
          "metadata": {}
        }
      ]
    },
    {
      "cell_type": "code",
      "source": [
        "stay_counts = df['Stay_In_Current_City_Years'].value_counts()\n",
        "print(stay_counts)\n",
        "\n",
        "# Plotting the bar graph\n",
        "plt.figure(figsize=(4, 2))\n",
        "stay_counts.plot(kind='bar', color=['blue', 'pink','yellow','orange','violet'])\n",
        "plt.xlabel('years in city ')\n",
        "plt.ylabel('Count')\n",
        "plt.title('years in city Count')\n",
        "plt.xticks(rotation=0)\n",
        "plt.show()"
      ],
      "metadata": {
        "colab": {
          "base_uri": "https://localhost:8080/",
          "height": 377
        },
        "id": "lIJgAlZ-JBfy",
        "outputId": "3715b7a0-2483-4a65-9bda-1b0b00ea3425"
      },
      "execution_count": null,
      "outputs": [
        {
          "output_type": "stream",
          "name": "stdout",
          "text": [
            "Stay_In_Current_City_Years\n",
            "1     193821\n",
            "2     101838\n",
            "3      95285\n",
            "4+     84726\n",
            "0      74398\n",
            "Name: count, dtype: int64\n"
          ]
        },
        {
          "output_type": "display_data",
          "data": {
            "text/plain": [
              "<Figure size 400x200 with 1 Axes>"
            ],
            "image/png": "[encoded data removed]"
          },
          "metadata": {}
        }
      ]
    },
    {
      "cell_type": "code",
      "source": [
        "df.groupby(['Gender','User_ID'])['Purchase'].count()"
      ],
      "metadata": {
        "colab": {
          "base_uri": "https://localhost:8080/",
          "height": 489
        },
        "id": "gDD9thoA6DOk",
        "outputId": "d79f9c4c-8f5f-457f-90ed-f026a31f50d7"
      },
      "execution_count": null,
      "outputs": [
        {
          "output_type": "execute_result",
          "data": {
            "text/plain": [
              "Gender  User_ID\n",
              "F       1000001     35\n",
              "        1000006     47\n",
              "        1000010    223\n",
              "        1000011     70\n",
              "        1000016     22\n",
              "                  ... \n",
              "M       1006030     59\n",
              "        1006032     55\n",
              "        1006033     36\n",
              "        1006034     12\n",
              "        1006040    180\n",
              "Name: Purchase, Length: 5891, dtype: int64"
            ],
            "text/html": [
              "<div>\n",
              "<style scoped>\n",
              "    .dataframe tbody tr th:only-of-type {\n",
              "        vertical-align: middle;\n",
              "    }\n",
              "\n",
              "    .dataframe tbody tr th {\n",
              "        vertical-align: top;\n",
              "    }\n",
              "\n",
              "    .dataframe thead th {\n",
              "        text-align: right;\n",
              "    }\n",
              "</style>\n",
              "<table border=\"1\" class=\"dataframe\">\n",
              "  <thead>\n",
              "    <tr style=\"text-align: right;\">\n",
              "      <th></th>\n",
              "      <th></th>\n",
              "      <th>Purchase</th>\n",
              "    </tr>\n",
              "    <tr>\n",
              "      <th>Gender</th>\n",
              "      <th>User_ID</th>\n",
              "      <th></th>\n",
              "    </tr>\n",
              "  </thead>\n",
              "  <tbody>\n",
              "    <tr>\n",
              "      <th rowspan=\"5\" valign=\"top\">F</th>\n",
              "      <th>1000001</th>\n",
              "      <td>35</td>\n",
              "    </tr>\n",
              "    <tr>\n",
              "      <th>1000006</th>\n",
              "      <td>47</td>\n",
              "    </tr>\n",
              "    <tr>\n",
              "      <th>1000010</th>\n",
              "      <td>223</td>\n",
              "    </tr>\n",
              "    <tr>\n",
              "      <th>1000011</th>\n",
              "      <td>70</td>\n",
              "    </tr>\n",
              "    <tr>\n",
              "      <th>1000016</th>\n",
              "      <td>22</td>\n",
              "    </tr>\n",
              "    <tr>\n",
              "      <th>...</th>\n",
              "      <th>...</th>\n",
              "      <td>...</td>\n",
              "    </tr>\n",
              "    <tr>\n",
              "      <th rowspan=\"5\" valign=\"top\">M</th>\n",
              "      <th>1006030</th>\n",
              "      <td>59</td>\n",
              "    </tr>\n",
              "    <tr>\n",
              "      <th>1006032</th>\n",
              "      <td>55</td>\n",
              "    </tr>\n",
              "    <tr>\n",
              "      <th>1006033</th>\n",
              "      <td>36</td>\n",
              "    </tr>\n",
              "    <tr>\n",
              "      <th>1006034</th>\n",
              "      <td>12</td>\n",
              "    </tr>\n",
              "    <tr>\n",
              "      <th>1006040</th>\n",
              "      <td>180</td>\n",
              "    </tr>\n",
              "  </tbody>\n",
              "</table>\n",
              "<p>5891 rows × 1 columns</p>\n",
              "</div><br><label><b>dtype:</b> int64</label>"
            ]
          },
          "metadata": {},
          "execution_count": 11
        }
      ]
    },
    {
      "cell_type": "code",
      "source": [
        "gender_sales = df.groupby(['Gender','Marital_Status'])['Purchase'].sum()\n",
        "\n",
        "print(gender_sales)"
      ],
      "metadata": {
        "colab": {
          "base_uri": "https://localhost:8080/"
        },
        "id": "eKcaYaJkKAoJ",
        "outputId": "abec70bc-d69d-49ff-ab91-7d972b7ebca2"
      },
      "execution_count": null,
      "outputs": [
        {
          "output_type": "stream",
          "name": "stdout",
          "text": [
            "Gender  Marital_Status\n",
            "F       0                  684154127\n",
            "        1                  502078515\n",
            "M       0                 2324773320\n",
            "        1                 1584806780\n",
            "Name: Purchase, dtype: int64\n"
          ]
        }
      ]
    },
    {
      "cell_type": "code",
      "source": [
        "plt.figure(figsize=(5, 3))\n",
        "gender_sales.plot(kind='bar', color='skyblue')\n",
        "plt.xlabel('Gender and Marital Status')\n",
        "plt.ylabel('Total Sales')\n",
        "plt.title('Total Sales by Gender and Marital Status')\n",
        "plt.xticks(rotation = 30)\n",
        "plt.show()"
      ],
      "metadata": {
        "colab": {
          "base_uri": "https://localhost:8080/",
          "height": 367
        },
        "id": "XNptRxgeH6PQ",
        "outputId": "6d4fcedb-a20d-43c4-a3d6-3108f32dea6b"
      },
      "execution_count": null,
      "outputs": [
        {
          "output_type": "display_data",
          "data": {
            "text/plain": [
              "<Figure size 500x300 with 1 Axes>"
            ],
            "image/png": "[encoded data removed]"
          },
          "metadata": {}
        }
      ]
    },
    {
      "cell_type": "code",
      "source": [
        "\n",
        "\n",
        "city_cat_sales = df.groupby(['Gender','City_Category'])['Purchase'].sum()\n",
        "city_cat_sales"
      ],
      "metadata": {
        "colab": {
          "base_uri": "https://localhost:8080/",
          "height": 303
        },
        "id": "lPRjzeNiIqAI",
        "outputId": "5b49c375-a147-4b57-f284-b211a206c835"
      },
      "execution_count": null,
      "outputs": [
        {
          "output_type": "execute_result",
          "data": {
            "text/plain": [
              "Gender  City_Category\n",
              "F       A                 306329915\n",
              "        B                 493617008\n",
              "        C                 386285719\n",
              "M       A                1010141746\n",
              "        B                1621916597\n",
              "        C                1277521757\n",
              "Name: Purchase, dtype: int64"
            ],
            "text/html": [
              "<div>\n",
              "<style scoped>\n",
              "    .dataframe tbody tr th:only-of-type {\n",
              "        vertical-align: middle;\n",
              "    }\n",
              "\n",
              "    .dataframe tbody tr th {\n",
              "        vertical-align: top;\n",
              "    }\n",
              "\n",
              "    .dataframe thead th {\n",
              "        text-align: right;\n",
              "    }\n",
              "</style>\n",
              "<table border=\"1\" class=\"dataframe\">\n",
              "  <thead>\n",
              "    <tr style=\"text-align: right;\">\n",
              "      <th></th>\n",
              "      <th></th>\n",
              "      <th>Purchase</th>\n",
              "    </tr>\n",
              "    <tr>\n",
              "      <th>Gender</th>\n",
              "      <th>City_Category</th>\n",
              "      <th></th>\n",
              "    </tr>\n",
              "  </thead>\n",
              "  <tbody>\n",
              "    <tr>\n",
              "      <th rowspan=\"3\" valign=\"top\">F</th>\n",
              "      <th>A</th>\n",
              "      <td>306329915</td>\n",
              "    </tr>\n",
              "    <tr>\n",
              "      <th>B</th>\n",
              "      <td>493617008</td>\n",
              "    </tr>\n",
              "    <tr>\n",
              "      <th>C</th>\n",
              "      <td>386285719</td>\n",
              "    </tr>\n",
              "    <tr>\n",
              "      <th rowspan=\"3\" valign=\"top\">M</th>\n",
              "      <th>A</th>\n",
              "      <td>1010141746</td>\n",
              "    </tr>\n",
              "    <tr>\n",
              "      <th>B</th>\n",
              "      <td>1621916597</td>\n",
              "    </tr>\n",
              "    <tr>\n",
              "      <th>C</th>\n",
              "      <td>1277521757</td>\n",
              "    </tr>\n",
              "  </tbody>\n",
              "</table>\n",
              "</div><br><label><b>dtype:</b> int64</label>"
            ]
          },
          "metadata": {},
          "execution_count": 22
        }
      ]
    },
    {
      "cell_type": "code",
      "source": [
        "plt.figure(figsize=(5, 3))\n",
        "city_cat_sales.plot(kind='bar', color='skyblue')\n",
        "plt.xlabel('city_cat, gender, m-male ; f-female')\n",
        "plt.ylabel('Total Sales')\n",
        "plt.title('Total Sales by Gender and city cateogry')\n",
        "plt.xticks(rotation = 30)\n",
        "plt.show()"
      ],
      "metadata": {
        "colab": {
          "base_uri": "https://localhost:8080/",
          "height": 352
        },
        "id": "BtvfSYZHJOTF",
        "outputId": "67128466-bcb1-45d0-bed9-7d9616f54f1e"
      },
      "execution_count": null,
      "outputs": [
        {
          "output_type": "display_data",
          "data": {
            "text/plain": [
              "<Figure size 500x300 with 1 Axes>"
            ],
            "image/png": "[encoded data removed]"
          },
          "metadata": {}
        }
      ]
    },
    {
      "cell_type": "code",
      "source": [
        "\n",
        "\n",
        "age_vs_city = df.groupby(['Age','Stay_In_Current_City_Years'])['User_ID'].count().sort_values()\n",
        "age_vs_city.tail(4)"
      ],
      "metadata": {
        "colab": {
          "base_uri": "https://localhost:8080/",
          "height": 241
        },
        "id": "I7cvd0dxkrOn",
        "outputId": "b6bc2b4e-c9fa-4038-db31-4c4df4a83f07"
      },
      "execution_count": null,
      "outputs": [
        {
          "output_type": "execute_result",
          "data": {
            "text/plain": [
              "Age    Stay_In_Current_City_Years\n",
              "36-45  1                             37074\n",
              "26-35  3                             39478\n",
              "       2                             39854\n",
              "       1                             77469\n",
              "Name: User_ID, dtype: int64"
            ],
            "text/html": [
              "<div>\n",
              "<style scoped>\n",
              "    .dataframe tbody tr th:only-of-type {\n",
              "        vertical-align: middle;\n",
              "    }\n",
              "\n",
              "    .dataframe tbody tr th {\n",
              "        vertical-align: top;\n",
              "    }\n",
              "\n",
              "    .dataframe thead th {\n",
              "        text-align: right;\n",
              "    }\n",
              "</style>\n",
              "<table border=\"1\" class=\"dataframe\">\n",
              "  <thead>\n",
              "    <tr style=\"text-align: right;\">\n",
              "      <th></th>\n",
              "      <th></th>\n",
              "      <th>User_ID</th>\n",
              "    </tr>\n",
              "    <tr>\n",
              "      <th>Age</th>\n",
              "      <th>Stay_In_Current_City_Years</th>\n",
              "      <th></th>\n",
              "    </tr>\n",
              "  </thead>\n",
              "  <tbody>\n",
              "    <tr>\n",
              "      <th>36-45</th>\n",
              "      <th>1</th>\n",
              "      <td>37074</td>\n",
              "    </tr>\n",
              "    <tr>\n",
              "      <th rowspan=\"3\" valign=\"top\">26-35</th>\n",
              "      <th>3</th>\n",
              "      <td>39478</td>\n",
              "    </tr>\n",
              "    <tr>\n",
              "      <th>2</th>\n",
              "      <td>39854</td>\n",
              "    </tr>\n",
              "    <tr>\n",
              "      <th>1</th>\n",
              "      <td>77469</td>\n",
              "    </tr>\n",
              "  </tbody>\n",
              "</table>\n",
              "</div><br><label><b>dtype:</b> int64</label>"
            ]
          },
          "metadata": {},
          "execution_count": 16
        }
      ]
    },
    {
      "cell_type": "code",
      "source": [
        "# Box plot for City_Category vs Purchase\n",
        "plt.figure(figsize=(10, 6))\n",
        "df.boxplot(column='Purchase', by='City_Category')\n",
        "plt.xlabel('City Category')\n",
        "plt.ylabel('Purchase')\n",
        "plt.title('Box Plot of Purchase by City Category')\n",
        "plt.suptitle('')\n",
        "plt.show()"
      ],
      "metadata": {
        "colab": {
          "base_uri": "https://localhost:8080/",
          "height": 479
        },
        "id": "NiaygIYMus5O",
        "outputId": "37003d0e-c8f2-45c9-f693-f03c47555e17"
      },
      "execution_count": null,
      "outputs": [
        {
          "output_type": "display_data",
          "data": {
            "text/plain": [
              "<Figure size 1000x600 with 0 Axes>"
            ]
          },
          "metadata": {}
        },
        {
          "output_type": "display_data",
          "data": {
            "text/plain": [
              "<Figure size 640x480 with 1 Axes>"
            ],
            "image/png": "[encoded data removed]"
          },
          "metadata": {}
        }
      ]
    },
    {
      "cell_type": "code",
      "source": [
        "df.info()\n",
        "#df.groupby(['City_Category'])['Purchase'].sum()"
      ],
      "metadata": {
        "colab": {
          "base_uri": "https://localhost:8080/"
        },
        "id": "zYodxd8L3dvH",
        "outputId": "bba13442-a2b9-4680-cdd8-3bab9278eca4"
      },
      "execution_count": null,
      "outputs": [
        {
          "output_type": "stream",
          "name": "stdout",
          "text": [
            "<class 'pandas.core.frame.DataFrame'>\n",
            "RangeIndex: 5891 entries, 0 to 5890\n",
            "Data columns (total 5 columns):\n",
            " #   Column          Non-Null Count  Dtype \n",
            "---  ------          --------------  ----- \n",
            " 0   User_ID         5891 non-null   int64 \n",
            " 1   Purchase        5891 non-null   int64 \n",
            " 2   Gender          5891 non-null   object\n",
            " 3   Age             5891 non-null   object\n",
            " 4   Marital_Status  5891 non-null   int64 \n",
            "dtypes: int64(3), object(2)\n",
            "memory usage: 230.2+ KB\n"
          ]
        }
      ]
    },
    {
      "cell_type": "code",
      "source": [
        "# Calculate the average purchase amount by gender\n",
        "gender_avg_purchase = df.groupby('Gender')['Purchase'].mean().round(2)\n",
        "print(\"Average Purchase by Gender:\")\n",
        "print(gender_avg_purchase)"
      ],
      "metadata": {
        "colab": {
          "base_uri": "https://localhost:8080/"
        },
        "id": "LDWgMpWf4K4s",
        "outputId": "8fb1c7e9-5b56-4c66-ef02-9a704f1f7670"
      },
      "execution_count": null,
      "outputs": [
        {
          "output_type": "stream",
          "name": "stdout",
          "text": [
            "Average Purchase by Gender:\n",
            "Gender\n",
            "F    8734.57\n",
            "M    9437.53\n",
            "Name: Purchase, dtype: float64\n"
          ]
        }
      ]
    },
    {
      "cell_type": "code",
      "source": [
        "# Average purchase by gender and age\n",
        "gender_age_avg_purchase = df.groupby(['Gender', 'Age'])['Purchase'].mean().round(2)\n",
        "\n",
        "print(\"\\nAverage Purchase by Gender and Age:\")\n",
        "print(gender_age_avg_purchase)"
      ],
      "metadata": {
        "colab": {
          "base_uri": "https://localhost:8080/"
        },
        "id": "N9EYJFiu6ThY",
        "outputId": "b712d0ba-7887-4a6a-f18e-5d2bb72234ea"
      },
      "execution_count": null,
      "outputs": [
        {
          "output_type": "stream",
          "name": "stdout",
          "text": [
            "\n",
            "Average Purchase by Gender and Age:\n",
            "Gender  Age  \n",
            "F       0-17     8338.77\n",
            "        18-25    8343.18\n",
            "        26-35    8728.25\n",
            "        36-45    8959.84\n",
            "        46-50    8842.10\n",
            "        51-55    9042.45\n",
            "        55+      9007.04\n",
            "M       0-17     9235.17\n",
            "        18-25    9440.94\n",
            "        26-35    9410.34\n",
            "        36-45    9453.19\n",
            "        46-50    9357.47\n",
            "        51-55    9705.09\n",
            "        55+      9438.20\n",
            "Name: Purchase, dtype: float64\n"
          ]
        }
      ]
    },
    {
      "cell_type": "code",
      "source": [
        "# Average purchase by gender and occupation\n",
        "gender_occupation_avg_purchase = df.groupby(['Gender', 'Occupation'])['User_ID'].count()\n",
        "print(\"\\nAverage Purchase by Gender and Occupation:\")\n",
        "print(gender_occupation_avg_purchase)"
      ],
      "metadata": {
        "colab": {
          "base_uri": "https://localhost:8080/"
        },
        "id": "oPpwgfNmkqTf",
        "outputId": "3e961f1e-00c2-4991-c5c3-3da4ebc9ddc5"
      },
      "execution_count": null,
      "outputs": [
        {
          "output_type": "stream",
          "name": "stdout",
          "text": [
            "\n",
            "Average Purchase by Gender and Occupation:\n",
            "Gender  Occupation\n",
            "F       0             18112\n",
            "        1             17984\n",
            "        2              8629\n",
            "        3              7919\n",
            "        4             17836\n",
            "        5              2220\n",
            "        6              8160\n",
            "        7             10028\n",
            "        8               361\n",
            "        9              5843\n",
            "        10             4003\n",
            "        11             1500\n",
            "        12             3469\n",
            "        13             1498\n",
            "        14             6763\n",
            "        15             2390\n",
            "        16             4107\n",
            "        17             3929\n",
            "        18              230\n",
            "        19             2017\n",
            "        20             8811\n",
            "M       0             51526\n",
            "        1             29442\n",
            "        2             17959\n",
            "        3              9731\n",
            "        4             54472\n",
            "        5              9957\n",
            "        6             12195\n",
            "        7             49105\n",
            "        8              1185\n",
            "        9               448\n",
            "        10             8927\n",
            "        11            10086\n",
            "        12            27710\n",
            "        13             6230\n",
            "        14            20546\n",
            "        15             9775\n",
            "        16            21264\n",
            "        17            36114\n",
            "        18             6392\n",
            "        19             6444\n",
            "        20            24751\n",
            "Name: User_ID, dtype: int64\n"
          ]
        }
      ]
    },
    {
      "cell_type": "code",
      "source": [
        "# Average purchase by gender and occupation\n",
        "gender_occupation_avg_purchase = df.groupby(['Gender', 'Occupation'])['Purchase'].mean().tail(5)\n",
        "print(\"\\nAverage Purchase by Gender and Occupation:\")\n",
        "print(gender_occupation_avg_purchase)"
      ],
      "metadata": {
        "colab": {
          "base_uri": "https://localhost:8080/"
        },
        "id": "x4C0tEb6lxB2",
        "outputId": "a6214c02-42f9-48df-aacf-d82b4a39c46e"
      },
      "execution_count": null,
      "outputs": [
        {
          "output_type": "stream",
          "name": "stdout",
          "text": [
            "\n",
            "Average Purchase by Gender and Occupation:\n",
            "Gender  Occupation\n",
            "M       16            9477.371520\n",
            "        17            9851.727696\n",
            "        18            9137.093398\n",
            "        19            8797.868870\n",
            "        20            9015.452547\n",
            "Name: Purchase, dtype: float64\n"
          ]
        }
      ]
    },
    {
      "cell_type": "code",
      "source": [
        "# Crosstab for Gender and Occupation in percentages\n",
        "crosstab_gender_occupation = pd.crosstab(df['Gender'], df['Occupation'], normalize='index') * 100\n",
        "print(\"\\nCrosstab for Gender and Occupation (in percentages):\")\n",
        "print(crosstab_gender_occupation)"
      ],
      "metadata": {
        "colab": {
          "base_uri": "https://localhost:8080/"
        },
        "id": "_taHxzRVnum2",
        "outputId": "d274ba22-618c-4593-cc2c-8c45892ef947"
      },
      "execution_count": null,
      "outputs": [
        {
          "output_type": "stream",
          "name": "stdout",
          "text": [
            "\n",
            "Crosstab for Gender and Occupation (in percentages):\n",
            "Occupation         0          1         2         3          4         5   \\\n",
            "Gender                                                                      \n",
            "F           13.336377  13.242127  6.353776  5.830983  13.133150  1.634649   \n",
            "M           12.438112   7.107148  4.335211  2.349014  13.149262  2.403569   \n",
            "\n",
            "Occupation        6          7         8         9   ...        11        12  \\\n",
            "Gender                                               ...                       \n",
            "F           6.008438   7.383899  0.265814  4.302366  ...  1.104492  2.554323   \n",
            "M           2.943811  11.853695  0.286053  0.108145  ...  2.434709  6.689052   \n",
            "\n",
            "Occupation       13        14        15        16        17        18  \\\n",
            "Gender                                                                  \n",
            "F           1.10302  4.979788  1.759824  3.024100  2.893034  0.169355   \n",
            "M           1.50389  4.959699  2.359635  5.133021  8.717735  1.542996   \n",
            "\n",
            "Occupation        19        20  \n",
            "Gender                          \n",
            "F           1.485174  6.487788  \n",
            "M           1.555549  5.974765  \n",
            "\n",
            "[2 rows x 21 columns]\n"
          ]
        }
      ]
    },
    {
      "cell_type": "code",
      "source": [
        "# Average purchase by gender and marital status\n",
        "gender_marital_avg_purchase = df.groupby(['Gender', 'Marital_Status'])['Purchase'].mean().unstack()\n",
        "print(\"\\nAverage Purchase by Gender and Marital Status:\")\n",
        "print(gender_marital_avg_purchase)"
      ],
      "metadata": {
        "colab": {
          "base_uri": "https://localhost:8080/"
        },
        "id": "AdDTPZDkmBRx",
        "outputId": "b9b91dae-b576-4981-c04f-8623109938b5"
      },
      "execution_count": null,
      "outputs": [
        {
          "output_type": "stream",
          "name": "stdout",
          "text": [
            "\n",
            "Average Purchase by Gender and Marital Status:\n",
            "Marital_Status            0            1\n",
            "Gender                                  \n",
            "F               8679.845815  8810.249789\n",
            "M               9453.756740  9413.817605\n"
          ]
        }
      ]
    },
    {
      "cell_type": "code",
      "source": [
        "# Average purchase by gender and stay in current city years\n",
        "gender_stay_avg_purchase = df.groupby(['Gender', 'Stay_In_Current_City_Years'])['Purchase'].mean()\n",
        "print(\"\\nAverage Purchase by Gender and Stay In Current City Years:\")\n",
        "print(gender_stay_avg_purchase)"
      ],
      "metadata": {
        "colab": {
          "base_uri": "https://localhost:8080/"
        },
        "id": "OU-8kSZBnaPD",
        "outputId": "c1644c0b-97cc-4bf4-ef4e-26434d54f3e0"
      },
      "execution_count": null,
      "outputs": [
        {
          "output_type": "stream",
          "name": "stdout",
          "text": [
            "\n",
            "Average Purchase by Gender and Stay In Current City Years:\n",
            "Gender  Stay_In_Current_City_Years\n",
            "F       0                             8606.040497\n",
            "        1                             8775.052244\n",
            "        2                             8740.516357\n",
            "        3                             8695.236582\n",
            "        4+                            8784.883738\n",
            "M       0                             9350.908869\n",
            "        1                             9421.145380\n",
            "        2                             9502.486091\n",
            "        3                             9491.916315\n",
            "        4+                            9413.589778\n",
            "Name: Purchase, dtype: float64\n"
          ]
        }
      ]
    },
    {
      "cell_type": "code",
      "source": [
        "import scipy.stats as stats"
      ],
      "metadata": {
        "id": "WpfPWedCnh6y"
      },
      "execution_count": null,
      "outputs": []
    },
    {
      "cell_type": "code",
      "source": [
        "# Function to calculate confidence interval\n",
        "def calculate_confidence_interval(data, confidence=0.95):\n",
        "    n = len(data)\n",
        "    mean = np.mean(data)\n",
        "    std_err = stats.sem(data)\n",
        "    h = std_err * stats.t.ppf((1 + confidence) / 2, n - 1)\n",
        "    return mean, mean - h, mean + h\n",
        "\n",
        "# Calculate confidence intervals for male and female customers\n",
        "male_purchase = df[df['Gender'] == 'M']['Purchase']\n",
        "female_purchase = df[df['Gender'] == 'F']['Purchase']\n",
        "\n",
        "male_mean, male_ci_lower, male_ci_upper = calculate_confidence_interval(male_purchase)\n",
        "female_mean, female_ci_lower, female_ci_upper = calculate_confidence_interval(female_purchase)\n",
        "\n",
        "print(\"Confidence Interval for Male Purchase:\")\n",
        "print(f\"Mean: {male_mean}, CI: ({male_ci_lower}, {male_ci_upper})\")\n",
        "\n",
        "print(\"\\nConfidence Interval for Female Purchase:\")\n",
        "print(f\"Mean: {female_mean}, CI: ({female_ci_lower}, {female_ci_upper})\")"
      ],
      "metadata": {
        "colab": {
          "base_uri": "https://localhost:8080/"
        },
        "id": "fG1JmK5poWPb",
        "outputId": "d6e2fd5a-8591-453c-9b54-84f1eaaba999"
      },
      "execution_count": null,
      "outputs": [
        {
          "output_type": "stream",
          "name": "stdout",
          "text": [
            "Confidence Interval for Male Purchase:\n",
            "Mean: 9437.526040472265, CI: (9422.019402055814, 9453.032678888716)\n",
            "\n",
            "Confidence Interval for Female Purchase:\n",
            "Mean: 8734.565765155476, CI: (8709.21132117373, 8759.92020913722)\n"
          ]
        }
      ]
    },
    {
      "cell_type": "code",
      "source": [
        "# Check if confidence intervals are overlapping\n",
        "overlapping_gender = not (male_ci_upper < female_ci_lower or female_ci_upper < male_ci_lower)\n",
        "print(\"\\nAre confidence intervals of average male and female spending overlapping?\")\n",
        "print(overlapping_gender)\n",
        "\n",
        "# Interpretation and recommendations\n",
        "if overlapping_gender:\n",
        "    print(\"The confidence intervals of average male and female spending are overlapping. This suggests that there is no significant difference in spending between males and females. Walmart can leverage this by creating gender-neutral marketing campaigns and promotions.\")\n",
        "else:\n",
        "    print(\"The confidence intervals of average male and female spending are not overlapping. This suggests that there is a significant difference in spending between males and females. Walmart can leverage this by creating targeted marketing campaigns and promotions for each gender.\")"
      ],
      "metadata": {
        "colab": {
          "base_uri": "https://localhost:8080/"
        },
        "id": "cM9gaUYnpPqj",
        "outputId": "cb47c41a-e77e-49e7-8b58-3413a8302756"
      },
      "execution_count": null,
      "outputs": [
        {
          "output_type": "stream",
          "name": "stdout",
          "text": [
            "\n",
            "Are confidence intervals of average male and female spending overlapping?\n",
            "False\n",
            "The confidence intervals of average male and female spending are not overlapping. This suggests that there is a significant difference in spending between males and females. Walmart can leverage this by creating targeted marketing campaigns and promotions for each gender.\n"
          ]
        }
      ]
    },
    {
      "cell_type": "code",
      "source": [
        "# Calculate confidence intervals for married and unmarried customers\n",
        "married_purchase = df[df['Marital_Status'] == 1]['Purchase']\n",
        "unmarried_purchase = df[df['Marital_Status'] == 0]['Purchase']\n",
        "\n",
        "married_mean, married_ci_lower, married_ci_upper = calculate_confidence_interval(married_purchase)\n",
        "unmarried_mean, unmarried_ci_lower, unmarried_ci_upper = calculate_confidence_interval(unmarried_purchase)\n",
        "\n",
        "print(\"\\nConfidence Interval for Married Purchase:\")\n",
        "print(f\"Mean: {married_mean}, CI: ({married_ci_lower}, {married_ci_upper})\")\n",
        "\n",
        "print(\"\\nConfidence Interval for Unmarried Purchase:\")\n",
        "print(f\"Mean: {unmarried_mean}, CI: ({unmarried_ci_lower}, {unmarried_ci_upper})\")\n",
        "\n",
        "# Check if confidence intervals are overlapping\n",
        "overlapping_marital = not (married_ci_upper < unmarried_ci_lower or unmarried_ci_upper < married_ci_lower)\n",
        "print(\"\\nAre confidence intervals of average married and unmarried spending overlapping?\")\n",
        "print(overlapping_marital)\n",
        "\n",
        "# Interpretation and recommendations\n",
        "if overlapping_marital:\n",
        "    print(\"The confidence intervals of average married and unmarried spending are overlapping. This suggests that there is no significant difference in spending between married and unmarried customers. Walmart can leverage this by creating general promotions that appeal to both groups.\")\n",
        "else:\n",
        "    print(\"The confidence intervals of average married and unmarried spending are not overlapping. This suggests that there is a significant difference in spending between married and unmarried customers. Walmart can leverage this by creating targeted promotions for each group.\")"
      ],
      "metadata": {
        "colab": {
          "base_uri": "https://localhost:8080/"
        },
        "id": "Bt-nX00cpYLv",
        "outputId": "1c6c7dae-c42f-489a-c7c8-75aaf31d2bf8"
      },
      "execution_count": null,
      "outputs": [
        {
          "output_type": "stream",
          "name": "stdout",
          "text": [
            "\n",
            "Confidence Interval for Married Purchase:\n",
            "Mean: 9261.174574082374, CI: (9240.460315792989, 9281.888832371758)\n",
            "\n",
            "Confidence Interval for Unmarried Purchase:\n",
            "Mean: 9265.907618921507, CI: (9248.616353737028, 9283.198884105985)\n",
            "\n",
            "Are confidence intervals of average married and unmarried spending overlapping?\n",
            "True\n",
            "The confidence intervals of average married and unmarried spending are overlapping. This suggests that there is no significant difference in spending between married and unmarried customers. Walmart can leverage this by creating general promotions that appeal to both groups.\n"
          ]
        }
      ]
    },
    {
      "cell_type": "code",
      "source": [],
      "metadata": {
        "id": "f7SHrBsNuxkn"
      },
      "execution_count": null,
      "outputs": []
    },
    {
      "cell_type": "code",
      "source": [
        "gender = df.groupby(['User_ID','Gender'])['Purchase'].sum()\n"
      ],
      "metadata": {
        "id": "tloO1yC3df53"
      },
      "execution_count": null,
      "outputs": []
    },
    {
      "cell_type": "code",
      "source": [
        "#c\n",
        "\n",
        "df = df.groupby(\"User_ID\", as_index=False).agg({\"Purchase\": \"sum\", \"Gender\": \"first\", \"Age\": \"first\", \"Marital_Status\": \"first\"})\n"
      ],
      "metadata": {
        "colab": {
          "base_uri": "https://localhost:8080/"
        },
        "id": "SW32iD6jHy-L",
        "outputId": "605553bc-8be5-4072-ec93-ee551b8cb4a6"
      },
      "execution_count": null,
      "outputs": [
        {
          "output_type": "stream",
          "name": "stdout",
          "text": [
            "<class 'pandas.core.frame.DataFrame'>\n",
            "RangeIndex: 5891 entries, 0 to 5890\n",
            "Data columns (total 5 columns):\n",
            " #   Column          Non-Null Count  Dtype \n",
            "---  ------          --------------  ----- \n",
            " 0   User_ID         5891 non-null   int64 \n",
            " 1   Purchase        5891 non-null   int64 \n",
            " 2   Gender          5891 non-null   object\n",
            " 3   Age             5891 non-null   object\n",
            " 4   Marital_Status  5891 non-null   int64 \n",
            "dtypes: int64(3), object(2)\n",
            "memory usage: 230.2+ KB\n"
          ]
        }
      ]
    },
    {
      "cell_type": "code",
      "source": [
        "gender_avg_spending = df.groupby(\"Gender\")[\"Purchase\"].mean()\n",
        "print(\"Average Purchase Amount by Gender:\")\n",
        "print(gender_avg_spending)"
      ],
      "metadata": {
        "colab": {
          "base_uri": "https://localhost:8080/"
        },
        "id": "D6gCOw-6H9wA",
        "outputId": "832133a9-5f75-4881-f0b4-32ea7ef50b56"
      },
      "execution_count": null,
      "outputs": [
        {
          "output_type": "stream",
          "name": "stdout",
          "text": [
            "Average Purchase Amount by Gender:\n",
            "Gender\n",
            "F    712024.394958\n",
            "M    925344.402367\n",
            "Name: Purchase, dtype: float64\n"
          ]
        }
      ]
    },
    {
      "cell_type": "code",
      "source": [
        "def confidence_interval_z(data, confidence=0.95):\n",
        "    mean = np.mean(data)\n",
        "    std = np.std(data, ddof=1)  # Standard deviation with Bessel's correction\n",
        "    z_value = stats.norm.ppf((1 + confidence) / 2)  # Z-score for the confidence level\n",
        "    margin = z_value * (std / np.sqrt(len(data)))\n",
        "    return mean, mean - margin, mean + margin"
      ],
      "metadata": {
        "id": "iOHzVtr2IA4P"
      },
      "execution_count": null,
      "outputs": []
    },
    {
      "cell_type": "code",
      "source": [
        "# Calculate confidence intervals using Z-score\n",
        "ci_male = confidence_interval_z(df[df[\"Gender\"] == \"M\"][\"Purchase\"])\n",
        "ci_female = confidence_interval_z(df[df[\"Gender\"] == \"F\"][\"Purchase\"])\n",
        "print(\"\\nConfidence Interval for Male Spending (Z-score):\", ci_male)\n",
        "print(\"Confidence Interval for Female Spending (Z-score):\", ci_female)"
      ],
      "metadata": {
        "colab": {
          "base_uri": "https://localhost:8080/"
        },
        "id": "8YEtbHcYIUIj",
        "outputId": "3c84d29d-8bc0-40a2-9def-4de0c1d9bc6f"
      },
      "execution_count": null,
      "outputs": [
        {
          "output_type": "stream",
          "name": "stdout",
          "text": [
            "\n",
            "Confidence Interval for Male Spending (Z-score): (925344.4023668639, 895618.3794063339, 955070.4253273939)\n",
            "Confidence Interval for Female Spending (Z-score): (712024.3949579832, 673255.4849374058, 750793.3049785605)\n"
          ]
        }
      ]
    },
    {
      "cell_type": "code",
      "source": [
        "overlap = (ci_female[2] >= ci_male[1]) and (ci_male[2] >= ci_female[1])\n",
        "print(\"\\nDo confidence intervals overlap : \", overlap)\n"
      ],
      "metadata": {
        "colab": {
          "base_uri": "https://localhost:8080/"
        },
        "id": "w8NPCoe4Iplj",
        "outputId": "d6daadb2-45bc-4efb-de31-c4757847c0cc"
      },
      "execution_count": null,
      "outputs": [
        {
          "output_type": "stream",
          "name": "stdout",
          "text": [
            "\n",
            "Do confidence intervals overlap :  False\n"
          ]
        }
      ]
    },
    {
      "cell_type": "code",
      "source": [
        "# Results for Married vs Unmarried\n",
        "group_marital = df.groupby(\"Marital_Status\")[\"Purchase\"].mean()\n",
        "print(\"\\nAverage Purchase Amount by Marital Status:\")\n",
        "print(group_marital)\n",
        "\n",
        "ci_married = confidence_interval_z(df[df[\"Marital_Status\"] == 1][\"Purchase\"])\n",
        "ci_unmarried = confidence_interval_z(df[df[\"Marital_Status\"] == 0][\"Purchase\"])\n",
        "print(\"Confidence Interval for Married Spending:\", ci_married)\n",
        "print(\"Confidence Interval for Unmarried Spending:\", ci_unmarried)\n"
      ],
      "metadata": {
        "colab": {
          "base_uri": "https://localhost:8080/"
        },
        "id": "Lj-CaCvkI4jj",
        "outputId": "308130e2-0d46-4b76-9cfe-6051474920b8"
      },
      "execution_count": null,
      "outputs": [
        {
          "output_type": "stream",
          "name": "stdout",
          "text": [
            "\n",
            "Average Purchase Amount by Marital Status:\n",
            "Marital_Status\n",
            "0    880575.781972\n",
            "1    843526.796686\n",
            "Name: Purchase, dtype: float64\n",
            "Confidence Interval for Married Spending: (843526.7966855295, 806669.5086715257, 880384.0846995333)\n",
            "Confidence Interval for Unmarried Spending: (880575.7819724905, 848741.7674019644, 912409.7965430166)\n"
          ]
        }
      ]
    },
    {
      "cell_type": "code",
      "source": [
        "df['Age'].unique()"
      ],
      "metadata": {
        "colab": {
          "base_uri": "https://localhost:8080/"
        },
        "id": "XiN_BONV1nLO",
        "outputId": "ab6d6cf9-3ce1-4795-a2e5-ffa5534a72de"
      },
      "execution_count": null,
      "outputs": [
        {
          "output_type": "execute_result",
          "data": {
            "text/plain": [
              "array(['0-17', '55+', '26-35', '46-50', '51-55', '36-45', '18-25'],\n",
              "      dtype=object)"
            ]
          },
          "metadata": {},
          "execution_count": 33
        }
      ]
    },
    {
      "cell_type": "code",
      "source": [
        "\n",
        "# 5. Results based on Age groups\n",
        "group_age = df.groupby(\"Age\")[\"Purchase\"].mean()\n",
        "print(\"\\nAverage Purchase Amount by Age Group:\")\n",
        "print(group_age)\n",
        "\n",
        "#age26_35 = confidence_interval_z(df[df[\"Age\"] == 26-35][\"Purchase\"])\n",
        "\n",
        "#print(\"Confidence Interval for age 26-35 Spending:\", age26_35)\n"
      ],
      "metadata": {
        "colab": {
          "base_uri": "https://localhost:8080/"
        },
        "id": "XUoUWXuzI61s",
        "outputId": "0942b482-1903-4186-d0a4-e8ca5d269b14"
      },
      "execution_count": null,
      "outputs": [
        {
          "output_type": "stream",
          "name": "stdout",
          "text": [
            "\n",
            "Average Purchase Amount by Age Group:\n",
            "Age\n",
            "0-17     618867.811927\n",
            "18-25    854863.119738\n",
            "26-35    989659.317097\n",
            "36-45    879665.710368\n",
            "46-50    792548.781544\n",
            "51-55    763200.923077\n",
            "55+      539697.244624\n",
            "Name: Purchase, dtype: float64\n"
          ]
        }
      ]
    },
    {
      "cell_type": "code",
      "source": [
        "group_age = df.groupby(\"Age\")[\"Purchase\"].mean()\n",
        "\n",
        "# Calculate the confidence interval for each age group\n",
        "confidence_intervals = {}\n",
        "for age in group_age.index:\n",
        "    purchases = df[df[\"Age\"] == age][\"Purchase\"]\n",
        "    mean = purchases.mean()\n",
        "    sem = stats.sem(purchases)  # Standard error of the mean\n",
        "    ci = stats.t.interval(0.95, len(purchases)-1, loc=mean, scale=sem)  # Confidence interval\n",
        "    confidence_intervals[age] = ci\n",
        "\n",
        "print(\"\\nAverage Purchase Amount by Age Group:\")\n",
        "print(group_age)\n",
        "print(\"\\n95% Confidence Intervals for Average Purchase Amount by Age Group:\")\n",
        "for age in confidence_intervals:\n",
        "    print(f\"Age {age}: {confidence_intervals[age]}\")"
      ],
      "metadata": {
        "colab": {
          "base_uri": "https://localhost:8080/"
        },
        "id": "u4tdAj6q4vGv",
        "outputId": "ce5f711c-39b9-401c-d635-cadcd90e06d6"
      },
      "execution_count": null,
      "outputs": [
        {
          "output_type": "stream",
          "name": "stdout",
          "text": [
            "\n",
            "Average Purchase Amount by Age Group:\n",
            "Age\n",
            "0-17     618867.811927\n",
            "18-25    854863.119738\n",
            "26-35    989659.317097\n",
            "36-45    879665.710368\n",
            "46-50    792548.781544\n",
            "51-55    763200.923077\n",
            "55+      539697.244624\n",
            "Name: Purchase, dtype: float64\n",
            "\n",
            "95% Confidence Intervals for Average Purchase Amount by Age Group:\n",
            "Age 0-17: (527152.6234073392, 710583.0004458718)\n",
            "Age 18-25: (801573.3611914959, 908152.87828465)\n",
            "Age 26-35: (945008.907026595, 1034309.7271672676)\n",
            "Age 36-45: (823290.3176389545, 936041.1030979777)\n",
            "Age 46-50: (713326.1728976379, 871771.3901908743)\n",
            "Age 51-55: (692214.7359532815, 834187.1102005647)\n",
            "Age 55+: (476744.04356350156, 602650.4456838103)\n"
          ]
        }
      ]
    },
    {
      "cell_type": "code",
      "source": [
        "# 6. Final insights with visualization\n",
        "plt.figure(figsize=(10,5))\n",
        "sns.boxplot(x=\"Gender\", y=\"Purchase\", data=df)\n",
        "plt.title(\"Purchase Distribution by Gender\")\n",
        "plt.show()\n",
        "\n",
        "plt.figure(figsize=(10,5))\n",
        "sns.boxplot(x=\"Marital_Status\", y=\"Purchase\", data=df)\n",
        "plt.title(\"Purchase Distribution by Marital Status\")\n",
        "plt.show()\n",
        "\n",
        "plt.figure(figsize=(12,6))\n",
        "sns.boxplot(x=\"Age\", y=\"Purchase\", data=df)\n",
        "plt.title(\"Purchase Distribution by Age Group\")\n",
        "plt.show()"
      ],
      "metadata": {
        "colab": {
          "base_uri": "https://localhost:8080/",
          "height": 1000
        },
        "id": "Dt4nSJf3JLV9",
        "outputId": "38a86d9c-06d2-4a7d-c3ba-5d7bcc98eb2f"
      },
      "execution_count": null,
      "outputs": [
        {
          "output_type": "display_data",
          "data": {
            "text/plain": [
              "<Figure size 1000x500 with 1 Axes>"
            ],
            "image/png": "[encoded data removed]"
          },
          "metadata": {}
        },
        {
          "output_type": "display_data",
          "data": {
            "text/plain": [
              "<Figure size 1000x500 with 1 Axes>"
            ],
            "image/png": "[encoded data removed]"
          },
          "metadata": {}
        },
        {
          "output_type": "display_data",
          "data": {
            "text/plain": [
              "<Figure size 1200x600 with 1 Axes>"
            ],
            "image/png": "[encoded data removed]"
          },
          "metadata": {}
        }
      ]
    },
    {
      "cell_type": "code",
      "source": [
        "# Additional Visualization - Histograms\n",
        "plt.figure(figsize=(12, 6))\n",
        "sns.histplot(df[df[\"Gender\"] == \"M\"][\"Purchase\"], bins=30, kde=True, color='blue', label=\"Male Spending\")\n",
        "sns.histplot(df[df[\"Gender\"] == \"F\"][\"Purchase\"], bins=30, kde=True, color='red', label=\"Female Spending\")\n",
        "plt.title(\"Distribution of Purchases by Gender\")\n",
        "plt.legend()\n",
        "plt.show()\n"
      ],
      "metadata": {
        "colab": {
          "base_uri": "https://localhost:8080/",
          "height": 564
        },
        "id": "IgbyBIDWJpYB",
        "outputId": "933e7482-c9ca-486d-b1ac-9e06013d7429"
      },
      "execution_count": null,
      "outputs": [
        {
          "output_type": "display_data",
          "data": {
            "text/plain": [
              "<Figure size 1200x600 with 1 Axes>"
            ],
            "image/png": "[encoded data removed]"
          },
          "metadata": {}
        }
      ]
    }
  ]
}